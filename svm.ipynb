{
 "cells": [
  {
   "cell_type": "code",
   "execution_count": 27,
   "metadata": {},
   "outputs": [],
   "source": [
    "from sklearn.externals import joblib\n",
    "import numpy as np\n",
    "import pandas as pd\n",
    "import matplotlib.pyplot as plt\n",
    "import seaborn as sns\n",
    "%matplotlib inline"
   ]
  },
  {
   "cell_type": "code",
   "execution_count": 41,
   "metadata": {},
   "outputs": [],
   "source": [
    "X_train = joblib.load('tmp/X_train.pkl')\n",
    "X_test = joblib.load('tmp/X_test.pkl')\n",
    "\n",
    "y_train = joblib.load('tmp/y_train.pkl')\n",
    "y_test = joblib.load('tmp/y_test.pkl')"
   ]
  },
  {
   "cell_type": "code",
   "execution_count": 42,
   "metadata": {},
   "outputs": [],
   "source": [
    "to_predict = 'Crime Code Description'"
   ]
  },
  {
   "cell_type": "markdown",
   "metadata": {},
   "source": [
    "# Feature selection\n",
    "## PCA\n",
    "- PCA natrenujeme na train a transformujeme train AJ test"
   ]
  },
  {
   "cell_type": "code",
   "execution_count": 51,
   "metadata": {},
   "outputs": [],
   "source": [
    "from sklearn.decomposition import PCA\n",
    "pca = PCA(n_components=20)\n",
    "pca.fit(X_train)\n",
    "cmp_X_train = pca.transform(X_train)\n",
    "cmp_X_test = pca.transform(X_test)"
   ]
  },
  {
   "cell_type": "code",
   "execution_count": 52,
   "metadata": {},
   "outputs": [
    {
     "data": {
      "text/plain": [
       "[<matplotlib.lines.Line2D at 0x2a40b380f60>]"
      ]
     },
     "execution_count": 52,
     "metadata": {},
     "output_type": "execute_result"
    },
    {
     "data": {
      "image/png": "[encoded data removed]",
      "text/plain": [
       "<matplotlib.figure.Figure at 0x2a40077d9e8>"
      ]
     },
     "metadata": {},
     "output_type": "display_data"
    }
   ],
   "source": [
    "plt.plot(np.cumsum(pca.explained_variance_ratio_))"
   ]
  },
  {
   "cell_type": "code",
   "execution_count": null,
   "metadata": {},
   "outputs": [],
   "source": [
    "# feature selection z sklearnu? aka?\n",
    "# http://scikit-learn.org/stable/modules/feature_selection.html"
   ]
  },
  {
   "cell_type": "markdown",
   "metadata": {},
   "source": [
    "## ExtraTrees feature selection\n",
    "\n",
    "- http://scikit-learn.org/stable/auto_examples/ensemble/plot_forest_importances.html#sphx-glr-auto-examples-ensemble-plot-forest-importances-py\n",
    "- http://scikit-learn.org/stable/modules/generated/sklearn.ensemble.ExtraTreesClassifier.html#sklearn.ensemble.ExtraTreesClassifier"
   ]
  },
  {
   "cell_type": "code",
   "execution_count": 43,
   "metadata": {},
   "outputs": [],
   "source": [
    "from sklearn.ensemble import ExtraTreesClassifier\n",
    "from sklearn.datasets import load_iris\n",
    "from sklearn.feature_selection import SelectFromModel\n",
    "\n",
    "clf = ExtraTreesClassifier(n_jobs=-1)\n",
    "clf = clf.fit(X_train, y_train)\n",
    "clf.feature_importances_  \n",
    "model = SelectFromModel(clf, prefit=True)\n",
    "X_train_new = model.transform(X_train)\n",
    "X_test_new = model.transform(X_test)\n",
    "              \n"
   ]
  },
  {
   "cell_type": "code",
   "execution_count": 44,
   "metadata": {},
   "outputs": [
    {
     "name": "stdout",
     "output_type": "stream",
     "text": [
      "Victim Age\n",
      "Area Name_77th Street\n",
      "Area Name_Central\n",
      "Area Name_Devonshire\n",
      "Area Name_Foothill\n",
      "Area Name_Harbor\n",
      "Area Name_Hollenbeck\n",
      "Area Name_Hollywood\n",
      "Area Name_Mission\n",
      "Area Name_N Hollywood\n",
      "Area Name_Newton\n",
      "Area Name_Northeast\n",
      "Area Name_Olympic\n",
      "Area Name_Pacific\n",
      "Area Name_Rampart\n",
      "Area Name_Southeast\n",
      "Area Name_Southwest\n",
      "Area Name_Topanga\n",
      "Area Name_Van Nuys\n",
      "Area Name_West LA\n",
      "Area Name_West Valley\n",
      "Area Name_Wilshire\n",
      "Time Occurred_night\n",
      "Time Occurred_morning\n",
      "Time Occurred_afternoon\n"
     ]
    }
   ],
   "source": [
    "lol = list(model.get_support(indices=True))\n",
    "\n",
    "for f in range(len(lol)):\n",
    "    print(list(X_train.columns)[f])\n"
   ]
  },
  {
   "cell_type": "code",
   "execution_count": null,
   "metadata": {},
   "outputs": [],
   "source": []
  },
  {
   "cell_type": "code",
   "execution_count": 35,
   "metadata": {},
   "outputs": [
    {
     "name": "stdout",
     "output_type": "stream",
     "text": [
      "Feature ranking:\n",
      "1. Victim Age \t \t 0 (0.552044)\n",
      "2. Area Name_77th Street \t \t 239 (0.071421)\n",
      "3. Area Name_Central \t \t 149 (0.013873)\n",
      "4. Area Name_Devonshire \t \t 23 (0.011391)\n",
      "5. Area Name_Foothill \t \t 203 (0.011103)\n",
      "6. Area Name_Harbor \t \t 34 (0.010765)\n",
      "7. Area Name_Hollenbeck \t \t 35 (0.010551)\n",
      "8. Area Name_Hollywood \t \t 22 (0.010380)\n",
      "9. Area Name_Mission \t \t 25 (0.010214)\n",
      "10. Area Name_N Hollywood \t \t 213 (0.009971)\n",
      "11. Area Name_Newton \t \t 202 (0.009706)\n",
      "12. Area Name_Northeast \t \t 33 (0.009509)\n",
      "13. Area Name_Olympic \t \t 24 (0.009056)\n",
      "14. Area Name_Pacific \t \t 28 (0.008607)\n",
      "15. Area Name_Rampart \t \t 32 (0.008578)\n",
      "16. Area Name_Southeast \t \t 30 (0.007846)\n",
      "17. Area Name_Southwest \t \t 16 (0.006297)\n",
      "18. Area Name_Topanga \t \t 13 (0.006253)\n",
      "19. Area Name_Van Nuys \t \t 170 (0.006244)\n",
      "20. Area Name_West LA \t \t 8 (0.006196)\n",
      "21. Area Name_West Valley \t \t 18 (0.005847)\n",
      "22. Area Name_Wilshire \t \t 5 (0.005783)\n",
      "23. Time Occurred_night \t \t 11 (0.005765)\n",
      "24. Time Occurred_morning \t \t 109 (0.005732)\n",
      "25. Time Occurred_afternoon \t \t 3 (0.005727)\n",
      "26. Time Occurred_evening \t \t 9 (0.005676)\n",
      "27. Time Occurred_night2 \t \t 20 (0.005564)\n",
      "28. Victim Sex_- \t \t 12 (0.005524)\n",
      "29. Victim Sex_F \t \t 87 (0.005516)\n",
      "30. Victim Sex_H \t \t 1 (0.005473)\n",
      "31. Victim Sex_M \t \t 161 (0.005441)\n",
      "32. Victim Sex_X \t \t 7 (0.005414)\n",
      "33. Victim Descent_B \t \t 14 (0.005390)\n",
      "34. Victim Descent_H \t \t 2 (0.005343)\n",
      "35. Victim Descent_O \t \t 17 (0.005310)\n",
      "36. Victim Descent_W \t \t 21 (0.005231)\n",
      "37. Premise Description_ABANDONED BUILDING ABANDONED HOUSE \t \t 4 (0.005215)\n",
      "38. Premise Description_ABATEMENT LOCATION \t \t 10 (0.005135)\n",
      "39. Premise Description_ABORTION CLINIC/ABORTION FACILITY* \t \t 19 (0.005121)\n",
      "40. Premise Description_AIRCRAFT \t \t 15 (0.005064)\n",
      "41. Premise Description_ALLEY \t \t 6 (0.004162)\n",
      "42. Premise Description_AMTRAK TRAIN \t \t 195 (0.004065)\n",
      "43. Premise Description_AMUSEMENT PARK* \t \t 95 (0.003996)\n",
      "44. Premise Description_ARCADE,GAME ROOM/VIDEO GAMES (EXAMPLE CHUCKIE CHEESE)* \t \t 169 (0.003151)\n",
      "45. Premise Description_AUTO REPAIR SHOP \t \t 134 (0.002919)\n",
      "46. Premise Description_AUTO SALES LOT \t \t 245 (0.002847)\n",
      "47. Premise Description_AUTO SUPPLY STORE* \t \t 164 (0.002746)\n",
      "48. Premise Description_AUTOMATED TELLER MACHINE (ATM) \t \t 40 (0.002711)\n",
      "49. Premise Description_BALCONY* \t \t 120 (0.002694)\n",
      "50. Premise Description_BANK \t \t 171 (0.002668)\n",
      "51. Premise Description_BANK DROP BOX/MONEY DROP-OUTSIDE OF BANK* \t \t 126 (0.002476)\n",
      "52. Premise Description_BANKING INSIDE MARKET-STORE * \t \t 167 (0.002457)\n",
      "53. Premise Description_BAR/COCKTAIL/NIGHTCLUB \t \t 178 (0.002406)\n",
      "54. Premise Description_BAR/SPORTS BAR (OPEN DAY & NIGHT) \t \t 111 (0.002377)\n",
      "55. Premise Description_BEACH \t \t 97 (0.001970)\n",
      "56. Premise Description_BEAUTY SUPPLY STORE \t \t 165 (0.001959)\n",
      "57. Premise Description_BEAUTY/BARBER SHOP \t \t 157 (0.001916)\n",
      "58. Premise Description_BLUE LINE (ABOVE GROUND SURFACE TRAIN) \t \t 146 (0.001739)\n",
      "59. Premise Description_BOWLING ALLEY* \t \t 128 (0.001737)\n",
      "60. Premise Description_BUS DEPOT \t \t 125 (0.001691)\n",
      "61. Premise Description_BUS STOP \t \t 96 (0.001509)\n",
      "62. Premise Description_BUS STOP OR LAYOVER \t \t 77 (0.001479)\n",
      "63. Premise Description_BUS, SCHOOL, CHURCH \t \t 60 (0.001446)\n",
      "64. Premise Description_CAR WASH \t \t 49 (0.001370)\n",
      "65. Premise Description_CATERING/ICE CREAM TRUCK \t \t 52 (0.001339)\n",
      "66. Premise Description_CELL PHONE STORE \t \t 142 (0.001248)\n",
      "67. Premise Description_CEMETARY* \t \t 129 (0.001246)\n",
      "68. Premise Description_CHARTER BUS AND PRIVATELY OWNED BUS \t \t 70 (0.001239)\n",
      "69. Premise Description_CHECK CASHING* \t \t 168 (0.001160)\n",
      "70. Premise Description_CHEMICAL STORAGE/MANUFACTURING PLANT \t \t 113 (0.001142)\n",
      "71. Premise Description_CHURCH/CHAPEL (CHANGED 03-03 FROM CHURCH/TEMPLE) \t \t 131 (0.001122)\n",
      "72. Premise Description_CLEANER/LAUNDROMAT \t \t 186 (0.001118)\n",
      "73. Premise Description_CLOTHING STORE \t \t 153 (0.001110)\n",
      "74. Premise Description_COFFEE SHOP (STARBUCKS, COFFEE BEAN, PEET'S, ETC.) \t \t 119 (0.001090)\n",
      "75. Premise Description_COLISEUM \t \t 72 (0.000980)\n",
      "76. Premise Description_COLLEGE/JUNIOR COLLEGE/UNIVERSITY \t \t 116 (0.000941)\n",
      "77. Premise Description_COMPUTER SERVICES/REPAIRS/SALES \t \t 138 (0.000928)\n",
      "78. Premise Description_CONDOMINIUM/TOWNHOUSE \t \t 201 (0.000915)\n",
      "79. Premise Description_CONSTRUCTION SITE \t \t 207 (0.000878)\n",
      "80. Premise Description_CONVENTION CENTER \t \t 180 (0.000871)\n",
      "81. Premise Description_CREDIT UNION \t \t 231 (0.000805)\n",
      "82. Premise Description_CULTURAL SIGNIFICANCE/MONUMENT \t \t 156 (0.000795)\n",
      "83. Premise Description_CYBERSPACE \t \t 130 (0.000771)\n",
      "84. Premise Description_DAM/RESERVOIR \t \t 143 (0.000768)\n",
      "85. Premise Description_DAY CARE/ADULTS* \t \t 75 (0.000766)\n",
      "86. Premise Description_DAY CARE/CHILDREN* \t \t 91 (0.000689)\n",
      "87. Premise Description_DELIVERY SERVICE (FED EX, UPS, COURIERS,COURIER SERVICE)* \t \t 31 (0.000655)\n",
      "88. Premise Description_DEPARTMENT STORE \t \t 65 (0.000601)\n",
      "89. Premise Description_DEPT OF DEFENSE FACILITY \t \t 44 (0.000591)\n",
      "90. Premise Description_DETENTION/JAIL FACILITY \t \t 56 (0.000584)\n",
      "91. Premise Description_DISCOUNT STORE (99 CENT,DOLLAR,ETC. \t \t 108 (0.000579)\n",
      "92. Premise Description_DIY CENTER (LOWE'S,HOME DEPOT,OSH,CONTRACTORS WAREHOUSE) \t \t 183 (0.000550)\n",
      "93. Premise Description_DODGER STADIUM \t \t 73 (0.000540)\n",
      "94. Premise Description_DRIVE THRU BANKING (WINDOW)* \t \t 222 (0.000537)\n",
      "95. Premise Description_DRIVE THRU* \t \t 212 (0.000532)\n",
      "96. Premise Description_DRIVEWAY \t \t 89 (0.000510)\n",
      "97. Premise Description_DRUG STORE \t \t 78 (0.000486)\n",
      "98. Premise Description_ELEMENTARY SCHOOL \t \t 53 (0.000454)\n",
      "99. Premise Description_ELEVATOR \t \t 242 (0.000442)\n",
      "100. Premise Description_ENERGY PLANT/FACILITY \t \t 90 (0.000417)\n",
      "101. Premise Description_ENTERTAINMENT/COMEDY CLUB (OTHER) \t \t 54 (0.000415)\n",
      "102. Premise Description_EQUIPMENT RENTAL \t \t 137 (0.000370)\n",
      "103. Premise Description_ESCALATOR* \t \t 237 (0.000369)\n",
      "104. Premise Description_FACTORY \t \t 172 (0.000334)\n",
      "105. Premise Description_FINANCE COMPANY \t \t 45 (0.000332)\n",
      "106. Premise Description_FIRE STATION \t \t 61 (0.000330)\n",
      "107. Premise Description_FOSTER HOME BOYS OR GIRLS* \t \t 63 (0.000327)\n",
      "108. Premise Description_FRAT HOUSE/SORORITY/DORMITORY \t \t 182 (0.000302)\n",
      "109. Premise Description_FREEWAY \t \t 68 (0.000296)\n",
      "110. Premise Description_GARAGE/CARPORT \t \t 185 (0.000294)\n",
      "111. Premise Description_GARMENT MANUFACTURER \t \t 92 (0.000289)\n",
      "112. Premise Description_GAS STATION \t \t 147 (0.000284)\n",
      "113. Premise Description_GOLF COURSE* \t \t 47 (0.000278)\n",
      "114. Premise Description_GOVERNMENT FACILITY (FEDERAL,STATE, COUNTY & CITY) \t \t 184 (0.000265)\n",
      "115. Premise Description_GREEN LINE (I-105 FWY LEVEL TRAIN) \t \t 118 (0.000250)\n",
      "116. Premise Description_GREYHOUND OR INTERSTATE BUS \t \t 139 (0.000237)\n",
      "117. Premise Description_GROUP HOME \t \t 67 (0.000226)\n",
      "118. Premise Description_GUN/SPORTING GOODS \t \t 62 (0.000223)\n",
      "119. Premise Description_HARDWARE/BUILDING SUPPLY \t \t 181 (0.000212)\n",
      "120. Premise Description_HEALTH SPA/GYM \t \t 226 (0.000204)\n",
      "121. Premise Description_HIGH SCHOOL \t \t 136 (0.000202)\n",
      "122. Premise Description_HIGH-RISE BUILDING \t \t 98 (0.000200)\n",
      "123. Premise Description_HOCKEY RINK/ICE HOCKEY \t \t 223 (0.000191)\n",
      "124. Premise Description_HORSE RACING/SANTA ANITA PARK* \t \t 215 (0.000184)\n",
      "125. Premise Description_HOSPICE \t \t 85 (0.000170)\n",
      "126. Premise Description_HOSPITAL \t \t 36 (0.000160)\n",
      "127. Premise Description_HOTEL \t \t 206 (0.000159)\n",
      "128. Premise Description_JEWELRY STORE \t \t 152 (0.000156)\n",
      "129. Premise Description_JUNIOR HIGH SCHOOL \t \t 127 (0.000155)\n",
      "130. Premise Description_LAUNDROMAT \t \t 197 (0.000155)\n",
      "131. Premise Description_LIBRARY \t \t 39 (0.000142)\n",
      "132. Premise Description_LIQUOR STORE \t \t 133 (0.000141)\n",
      "133. Premise Description_MAIL BOX \t \t 59 (0.000137)\n",
      "134. Premise Description_MANUFACTURING COMPANY \t \t 94 (0.000136)\n",
      "135. Premise Description_MARKET \t \t 211 (0.000135)\n",
      "136. Premise Description_MASS GATHERING LOCATION \t \t 210 (0.000132)\n",
      "137. Premise Description_MASSAGE PARLOR \t \t 216 (0.000131)\n",
      "138. Premise Description_MEDICAL MARIJUANA FACILITIES/BUSINESSES \t \t 46 (0.000131)\n",
      "139. Premise Description_MEDICAL/DENTAL OFFICES \t \t 225 (0.000124)\n",
      "140. Premise Description_MEMBERSHIP STORE (COSTCO,SAMS CLUB)* \t \t 177 (0.000120)\n",
      "141. Premise Description_METHADONE CLINIC \t \t 106 (0.000118)\n",
      "142. Premise Description_METROLINK TRAIN \t \t 132 (0.000117)\n",
      "143. Premise Description_MINI-MART \t \t 103 (0.000117)\n",
      "144. Premise Description_MOBILE HOME/TRAILERS/CONSTRUCTION TRAILERS/RV'S/MOTORHOME \t \t 79 (0.000111)\n",
      "145. Premise Description_MORTUARY \t \t 179 (0.000111)\n",
      "146. Premise Description_MOSQUE* \t \t 66 (0.000110)\n",
      "147. Premise Description_MOTEL \t \t 84 (0.000106)\n",
      "148. Premise Description_MTA BUS \t \t 141 (0.000105)\n",
      "149. Premise Description_MTA PROPERTY OR PARKING LOT \t \t 244 (0.000104)\n",
      "150. Premise Description_MULTI-UNIT DWELLING (APARTMENT, DUPLEX, ETC) \t \t 188 (0.000098)\n",
      "151. Premise Description_MUNICIPAL BUS LINE INCLUDES LADOT/DASH \t \t 58 (0.000097)\n",
      "152. Premise Description_MUSEUM \t \t 175 (0.000095)\n",
      "153. Premise Description_NAIL SALON \t \t 107 (0.000083)\n",
      "154. Premise Description_NIGHT CLUB (OPEN EVENINGS ONLY) \t \t 100 (0.000081)\n",
      "155. Premise Description_NUCLEAR FACILITY \t \t 135 (0.000075)\n",
      "156. Premise Description_NURSERY/FLOWER SHOP \t \t 235 (0.000075)\n",
      "157. Premise Description_NURSING/CONVALESCENT/RETIREMENT HOME \t \t 176 (0.000073)\n",
      "158. Premise Description_OFFICE BUILDING/OFFICE \t \t 200 (0.000071)\n",
      "159. Premise Description_OIL REFINERY \t \t 71 (0.000070)\n",
      "160. Premise Description_OPTICAL OFFICE INSIDE STORE OR SUPERMARKET* \t \t 228 (0.000068)\n",
      "161. Premise Description_ORANGE LINE PARKING LOT \t \t 55 (0.000067)\n",
      "162. Premise Description_OTHER BUSINESS \t \t 219 (0.000066)\n",
      "163. Premise Description_OTHER INTERSTATE, CHARTER BUS \t \t 198 (0.000065)\n",
      "164. Premise Description_OTHER PLACE OF WORSHIP \t \t 159 (0.000065)\n",
      "165. Premise Description_OTHER PREMISE \t \t 209 (0.000065)\n",
      "166. Premise Description_OTHER RESIDENCE \t \t 86 (0.000063)\n",
      "167. Premise Description_OTHER RR TRAIN (UNION PAC, SANTE FE ETC \t \t 110 (0.000060)\n",
      "168. Premise Description_OTHER STORE \t \t 82 (0.000060)\n",
      "169. Premise Description_OTHER/OUTSIDE \t \t 221 (0.000059)\n",
      "170. Premise Description_PARK/PLAYGROUND \t \t 187 (0.000056)\n",
      "171. Premise Description_PARKING LOT \t \t 151 (0.000055)\n",
      "172. Premise Description_PARKING UNDERGROUND/BUILDING \t \t 224 (0.000053)\n",
      "173. Premise Description_PATIO* \t \t 218 (0.000052)\n",
      "174. Premise Description_PAWN SHOP \t \t 101 (0.000051)\n",
      "175. Premise Description_PAY PHONE \t \t 145 (0.000051)\n",
      "176. Premise Description_PEDESTRIAN OVERCROSSING \t \t 173 (0.000049)\n",
      "177. Premise Description_PET STORE \t \t 148 (0.000049)\n",
      "178. Premise Description_PHARMACY INSIDE STORE OR SUPERMARKET* \t \t 140 (0.000045)\n",
      "179. Premise Description_POLICE FACILITY \t \t 155 (0.000045)\n",
      "180. Premise Description_POOL-PUBLIC/OUTDOOR OR INDOOR* \t \t 105 (0.000044)\n",
      "181. Premise Description_PORCH, RESIDENTIAL \t \t 76 (0.000043)\n",
      "182. Premise Description_POST OFFICE \t \t 236 (0.000042)\n",
      "183. Premise Description_PRIVATE SCHOOL/PRESCHOOL \t \t 241 (0.000042)\n",
      "184. Premise Description_PROJECT/TENEMENT/PUBLIC HOUSING \t \t 229 (0.000040)\n",
      "185. Premise Description_PUBLIC RESTROOM(INDOORS-INSIDE) \t \t 112 (0.000037)\n",
      "186. Premise Description_PUBLIC RESTROOM/OUTSIDE* \t \t 240 (0.000036)\n",
      "187. Premise Description_PUBLIC STORAGE \t \t 38 (0.000034)\n",
      "188. Premise Description_RECORD-CD MUSIC/COMPUTER GAME STORE \t \t 166 (0.000034)\n",
      "189. Premise Description_RECYCLING CENTER \t \t 74 (0.000034)\n",
      "190. Premise Description_REDLINE (SUBWAY TRAIN) \t \t 93 (0.000034)\n",
      "191. Premise Description_REDLINE ENTRANCE/EXIT \t \t 158 (0.000032)\n",
      "192. Premise Description_REDLINE SUBWAY MEZZANINE \t \t 29 (0.000032)\n",
      "193. Premise Description_REDLINE SUBWAY PLATFORM \t \t 144 (0.000031)\n",
      "194. Premise Description_REDLINE SUBWAY RAIL CAR (INSIDE TRAIN) \t \t 80 (0.000031)\n",
      "195. Premise Description_REDLINE SUBWAY TUNNEL \t \t 48 (0.000031)\n",
      "196. Premise Description_RESTAURANT/FAST FOOD \t \t 42 (0.000031)\n",
      "197. Premise Description_RETIRED (DUPLICATE) DO NOT USE THIS CODE \t \t 102 (0.000030)\n",
      "198. Premise Description_RIVER BED* \t \t 115 (0.000030)\n",
      "199. Premise Description_SAVINGS & LOAN \t \t 64 (0.000028)\n",
      "200. Premise Description_SEWAGE FACILITY/PIPE \t \t 220 (0.000028)\n",
      "201. Premise Description_SEX ORIENTED/BOOK STORE \t \t 124 (0.000027)\n",
      "202. Premise Description_SHOPPING MALL (COMMON AREA) \t \t 232 (0.000026)\n",
      "203. Premise Description_SIDEWALK \t \t 43 (0.000025)\n",
      "204. Premise Description_SINGLE FAMILY DWELLING \t \t 238 (0.000021)\n",
      "205. Premise Description_SKATEBOARD FACILITY/SKATEBOARD PARK* \t \t 234 (0.000020)\n",
      "206. Premise Description_SKATING RINK* \t \t 150 (0.000019)\n",
      "207. Premise Description_SLIPS/DOCK/MARINA/BOAT \t \t 163 (0.000017)\n",
      "208. Premise Description_SPECIALTY SCHOOL/OTHER \t \t 204 (0.000015)\n",
      "209. Premise Description_SPORTS ARENA \t \t 192 (0.000015)\n",
      "210. Premise Description_SPORTS VENUE, OTHER \t \t 208 (0.000015)\n",
      "211. Premise Description_STAIRWELL* \t \t 205 (0.000007)\n",
      "212. Premise Description_STAPLES CENTER * \t \t 51 (0.000007)\n",
      "213. Premise Description_STORAGE SHED \t \t 162 (0.000007)\n",
      "214. Premise Description_STREET \t \t 117 (0.000006)\n",
      "215. Premise Description_SURPLUS SURVIVAL STORE \t \t 227 (0.000006)\n",
      "216. Premise Description_SWAP MEET \t \t 104 (0.000005)\n",
      "217. Premise Description_SYNAGOGUE/TEMPLE \t \t 37 (0.000005)\n",
      "218. Premise Description_TACTICAL SIGNIFICANCE \t \t 83 (0.000004)\n",
      "219. Premise Description_TATTOO PARLOR* \t \t 190 (0.000003)\n",
      "220. Premise Description_TAXI \t \t 233 (0.000003)\n",
      "221. Premise Description_TELECOMMUNICATION FACILITY/LOCATION \t \t 57 (0.000001)\n",
      "222. Premise Description_TERMINAL \t \t 230 (0.000000)\n",
      "223. Premise Description_THEATRE/MOVIE \t \t 243 (0.000000)\n",
      "224. Premise Description_TOBACCO SHOP \t \t 199 (0.000000)\n",
      "225. Premise Description_TOOL SHED* \t \t 99 (0.000000)\n",
      "226. Premise Description_TOW YARD* \t \t 26 (0.000000)\n",
      "227. Premise Description_TRADE SCHOOL (MEDICAL-TECHNICAL-BUSINESS)* \t \t 123 (0.000000)\n",
      "228. Premise Description_TRAIN \t \t 196 (0.000000)\n",
      "229. Premise Description_TRAIN DEPOT \t \t 194 (0.000000)\n",
      "230. Premise Description_TRAIN TRACKS \t \t 193 (0.000000)\n",
      "231. Premise Description_TRAM/STREETCAR(BOXLIKE WAG ON RAILS)* \t \t 191 (0.000000)\n",
      "232. Premise Description_TRANSPORTATION FACILITY (AIRPORT) \t \t 189 (0.000000)\n",
      "233. Premise Description_TRASH CAN/TRASH DUMPSTER \t \t 174 (0.000000)\n",
      "234. Premise Description_TRUCK, COMMERICAL \t \t 160 (0.000000)\n",
      "235. Premise Description_TUNNEL \t \t 154 (0.000000)\n",
      "236. Premise Description_TV/RADIO/APPLIANCE \t \t 121 (0.000000)\n",
      "237. Premise Description_UNDERPASS/BRIDGE* \t \t 27 (0.000000)\n",
      "238. Premise Description_VACANT LOT \t \t 114 (0.000000)\n",
      "239. Premise Description_VALET \t \t 88 (0.000000)\n",
      "240. Premise Description_VEHICLE, PASSENGER/TRUCK \t \t 81 (0.000000)\n",
      "241. Premise Description_VIDEO RENTAL STORE \t \t 69 (0.000000)\n",
      "242. Premise Description_VISION CARE FACILITY* \t \t 50 (0.000000)\n",
      "243. Premise Description_WAREHOUSE \t \t 41 (0.000000)\n",
      "244. Premise Description_WATER FACILITY \t \t 214 (0.000000)\n",
      "245. Premise Description_WEBSITE \t \t 217 (0.000000)\n",
      "246. Premise Description_YARD (RESIDENTIAL/BUSINESS) \t \t 122 (0.000000)\n"
     ]
    }
   ],
   "source": [
    "importances = clf.feature_importances_\n",
    "std = np.std([tree.feature_importances_ for tree in clf.estimators_],\n",
    "             axis=0)\n",
    "indices = np.argsort(importances)[::-1]\n",
    "\n",
    "# Print the feature ranking\n",
    "print(\"Feature ranking:\")\n",
    "\n",
    "for f in range(X_train.shape[1]):\n",
    "    print(\"%d. %s \\t \\t %d (%f)\" % (f + 1, list(X_train.columns)[f], indices[f], importances[indices[f]]))\n",
    "\n",
    "# Plot the feature importances of the forest\n",
    "# plt.figure()\n",
    "# plt.title(\"Feature importances\")\n",
    "# plt.bar(range(X_train.shape[1]), importances[indices],\n",
    "#        color=\"r\", yerr=std[indices], align=\"center\")\n",
    "# plt.xticks(range(X_train.shape[1]), indices)\n",
    "# plt.xlim([-1, X_train.shape[1]])\n",
    "# plt.show()"
   ]
  },
  {
   "cell_type": "markdown",
   "metadata": {},
   "source": [
    "# Classification\n",
    "## kNN\n",
    "- http://scikit-learn.org/stable/modules/generated/sklearn.neighbors.KNeighborsClassifier.html\n",
    "- http://scikit-learn.org/stable/modules/neighbors.html#classification\n",
    "- http://scikit-learn.org/stable/auto_examples/neighbors/plot_classification.html\n",
    "\n",
    "75000:25000 rozdelenie uz splitneho datasetu\n",
    "All features\n",
    "- n_neighbors=5  accuracy 0.16\n",
    "- n_neighbors=15 accuracy 0.22\n",
    "- n_neighbors=30 accuracy 0.24\n",
    "- n_neighbors=50 accuracy 0.24\n",
    "\n",
    "35 top features FULL DATA\n",
    "- n_neighbors=30 accuracy 0.25 \n"
   ]
  },
  {
   "cell_type": "code",
   "execution_count": null,
   "metadata": {},
   "outputs": [],
   "source": []
  },
  {
   "cell_type": "code",
   "execution_count": 45,
   "metadata": {},
   "outputs": [
    {
     "data": {
      "text/plain": [
       "KNeighborsClassifier(algorithm='auto', leaf_size=30, metric='minkowski',\n",
       "           metric_params=None, n_jobs=-1, n_neighbors=30, p=2,\n",
       "           weights='uniform')"
      ]
     },
     "execution_count": 45,
     "metadata": {},
     "output_type": "execute_result"
    }
   ],
   "source": [
    "from sklearn.neighbors import KNeighborsClassifier\n",
    "knn = KNeighborsClassifier(n_neighbors=30, n_jobs=-1)\n",
    "knn"
   ]
  },
  {
   "cell_type": "code",
   "execution_count": 46,
   "metadata": {},
   "outputs": [
    {
     "data": {
      "text/plain": [
       "KNeighborsClassifier(algorithm='auto', leaf_size=30, metric='minkowski',\n",
       "           metric_params=None, n_jobs=-1, n_neighbors=30, p=2,\n",
       "           weights='uniform')"
      ]
     },
     "execution_count": 46,
     "metadata": {},
     "output_type": "execute_result"
    }
   ],
   "source": [
    "knn.fit(X_train_new, y_train) # [:75000]"
   ]
  },
  {
   "cell_type": "code",
   "execution_count": 47,
   "metadata": {},
   "outputs": [],
   "source": [
    "scores = knn.score(X_test_new, y_test) # [:25000]"
   ]
  },
  {
   "cell_type": "code",
   "execution_count": 48,
   "metadata": {},
   "outputs": [
    {
     "name": "stdout",
     "output_type": "stream",
     "text": [
      "Accuracy: 0.61 (+/- 0.00)\n"
     ]
    }
   ],
   "source": [
    "print(\"Accuracy: %0.2f (+/- %0.2f)\" % (scores.mean(), scores.std() * 2))"
   ]
  },
  {
   "cell_type": "code",
   "execution_count": 21,
   "metadata": {},
   "outputs": [],
   "source": [
    "y_pred = knn.predict(X_test_new)\n",
    "y_true = y_test # kopia"
   ]
  },
  {
   "cell_type": "code",
   "execution_count": 24,
   "metadata": {},
   "outputs": [],
   "source": [
    "from sklearn.metrics import confusion_matrix\n",
    "\n",
    "cnf_matrix = confusion_matrix(y_true, y_pred)"
   ]
  },
  {
   "cell_type": "code",
   "execution_count": 23,
   "metadata": {},
   "outputs": [],
   "source": [
    "def plot_confusion_matrix(cm, classes,\n",
    "                          normalize=False,\n",
    "                          title='Confusion matrix',\n",
    "                          cmap=plt.cm.Blues):\n",
    "    \"\"\"\n",
    "    This function prints and plots the confusion matrix.\n",
    "    Normalization can be applied by setting `normalize=True`.\n",
    "    \"\"\"\n",
    "    if normalize:\n",
    "        cm = cm.astype('float') / cm.sum(axis=1)[:, np.newaxis]\n",
    "        print(\"Normalized confusion matrix\")\n",
    "    else:\n",
    "        print('Confusion matrix, without normalization')\n",
    "\n",
    "    print(cm)\n",
    "\n",
    "    plt.imshow(cm, interpolation='nearest', cmap=cmap)\n",
    "    plt.title(title)\n",
    "    plt.colorbar()\n",
    "    tick_marks = np.arange(len(classes))\n",
    "    plt.xticks(tick_marks, classes, rotation=45)\n",
    "    plt.yticks(tick_marks, classes)\n",
    "\n",
    "    fmt = '.2f' if normalize else 'd'\n",
    "    thresh = cm.max() / 2.\n",
    "    for i, j in itertools.product(range(cm.shape[0]), range(cm.shape[1])):\n",
    "        plt.text(j, i, format(cm[i, j], fmt),\n",
    "                 horizontalalignment=\"center\",\n",
    "                 color=\"white\" if cm[i, j] > thresh else \"black\")\n",
    "\n",
    "    plt.tight_layout()\n",
    "    plt.ylabel('True label')\n",
    "    plt.xlabel('Predicted label')\n"
   ]
  },
  {
   "cell_type": "code",
   "execution_count": null,
   "metadata": {},
   "outputs": [],
   "source": [
    "plt.figure()\n",
    "plot_confusion_matrix(cnf_matrix, y_train,\n",
    "                      title='Confusion matrix, without normalization')\n",
    "plt.show()"
   ]
  },
  {
   "cell_type": "code",
   "execution_count": null,
   "metadata": {},
   "outputs": [],
   "source": []
  },
  {
   "cell_type": "code",
   "execution_count": null,
   "metadata": {},
   "outputs": [],
   "source": []
  },
  {
   "cell_type": "code",
   "execution_count": null,
   "metadata": {},
   "outputs": [],
   "source": []
  },
  {
   "cell_type": "code",
   "execution_count": null,
   "metadata": {},
   "outputs": [],
   "source": []
  },
  {
   "cell_type": "markdown",
   "metadata": {},
   "source": [
    "## SVM"
   ]
  },
  {
   "cell_type": "code",
   "execution_count": 4,
   "metadata": {},
   "outputs": [
    {
     "data": {
      "text/plain": [
       "Pipeline(memory=None,\n",
       "     steps=[('reduce_dim', PCA(copy=True, iterated_power='auto', n_components=None, random_state=None,\n",
       "  svd_solver='auto', tol=0.0, whiten=False)), ('clf', SVC(C=1.0, cache_size=200, class_weight=None, coef0=0.0,\n",
       "  decision_function_shape='ovr', degree=3, gamma='auto', kernel='rbf',\n",
       "  max_iter=-1, probability=False, random_state=None, shrinking=True,\n",
       "  tol=0.001, verbose=False))])"
      ]
     },
     "execution_count": 4,
     "metadata": {},
     "output_type": "execute_result"
    }
   ],
   "source": [
    "from sklearn.pipeline import Pipeline\n",
    "from sklearn.svm import SVC\n",
    "from sklearn.decomposition import PCA\n",
    "estimators = [('reduce_dim', PCA()), ('clf', SVC())]\n",
    "pipe = Pipeline(estimators)\n",
    "pipe "
   ]
  },
  {
   "cell_type": "code",
   "execution_count": null,
   "metadata": {},
   "outputs": [],
   "source": [
    "pipe.fit(X_train, y_train)\n",
    "pipe.score(X_test, y_test)"
   ]
  },
  {
   "cell_type": "code",
   "execution_count": null,
   "metadata": {},
   "outputs": [],
   "source": []
  },
  {
   "cell_type": "code",
   "execution_count": null,
   "metadata": {},
   "outputs": [],
   "source": []
  },
  {
   "cell_type": "code",
   "execution_count": null,
   "metadata": {},
   "outputs": [],
   "source": []
  },
  {
   "cell_type": "code",
   "execution_count": null,
   "metadata": {},
   "outputs": [],
   "source": []
  },
  {
   "cell_type": "code",
   "execution_count": 16,
   "metadata": {},
   "outputs": [],
   "source": [
    "# vytvorime si mapu \n",
    "col_names = list(encoded.columns)\n",
    "index_range = list(range(len(col_names)))\n",
    "col_map = dict(zip(index_range, col_names))"
   ]
  },
  {
   "cell_type": "code",
   "execution_count": null,
   "metadata": {},
   "outputs": [],
   "source": []
  },
  {
   "cell_type": "code",
   "execution_count": null,
   "metadata": {},
   "outputs": [],
   "source": []
  },
  {
   "cell_type": "code",
   "execution_count": null,
   "metadata": {},
   "outputs": [],
   "source": []
  },
  {
   "cell_type": "code",
   "execution_count": null,
   "metadata": {},
   "outputs": [],
   "source": []
  }
 ],
 "metadata": {
  "kernelspec": {
   "display_name": "Python 3",
   "language": "python",
   "name": "python3"
  },
  "language_info": {
   "codemirror_mode": {
    "name": "ipython",
    "version": 3
   },
   "file_extension": ".py",
   "mimetype": "text/x-python",
   "name": "python",
   "nbconvert_exporter": "python",
   "pygments_lexer": "ipython3",
   "version": "3.6.2"
  }
 },
 "nbformat": 4,
 "nbformat_minor": 2
}
