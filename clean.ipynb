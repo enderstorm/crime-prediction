{
 "cells": [
  {
   "cell_type": "markdown",
   "metadata": {},
   "source": [
    "# Opis dát a preprocessing\n",
    "\n",
    "Oficiálny opis a zdroj datasetu: https://data.lacity.org/A-Safe-City/Crime-Data-from-2010-to-Present/y8tr-7khq\n",
    "\n",
    "### Time Occurred\n",
    "\n",
    "> In 24 hour military time.\n",
    "\n",
    "Teda v tvare *hhmm*. Tento atribút sme transformovali diskretizáciou na časové vedrá vyššieho konceptu nasledovne:\n",
    "\n",
    "| Vedro         | Interval      |\n",
    "| ------------- |:-------------:|\n",
    "| night         | <2100, 500)   |\n",
    "| morning       | <500, 1200)   |\n",
    "| afternoon     | <1200, 1700)  |\n",
    "| evening       | <1700, 2100)  |\n",
    "\n",
    "\n",
    "### Crime Code\n",
    "\n",
    "> Indicates the crime committed. \n",
    "> Crime Code 1 is the primary and most serious one. \n",
    "> Crime Code 2, 3, and 4 are respectively less serious offenses.\n",
    "> Lower crime class numbers are more serious.\n",
    "\n",
    "Crime code je rovnaky ako Crime code 1\n",
    "\n",
    "Crime code 2-4 nie je vsade vyplneny, preto ho dropujeme\n",
    "\n",
    "   => Preto sa zameriame na serious offenses, teda Crime Code\n",
    "   \n",
    "### Zone Id\n",
    "\n",
    "> The LAPD has 21 Community Police Stations referred to as Geographic Areas within the department. These Geographic Areas are sequentially numbered from 1-21.\n",
    "\n",
    "Zone ID su geograficke zony dvadsiatychjednych Community Police Stations\n",
    "\n",
    "### Premise Code/Description\n",
    "\n",
    "> The type of structure, vehicle, or location where the crime took place.\n",
    "\n",
    "### Victim Sex\n",
    "\n",
    "> F - Female M - Male X - Unknown\n",
    "\n",
    "### MO Codes\n",
    "\n",
    "> Modus Operandi: Activities associated with the suspect in commission of the crime. See attached PDF for list of MO Codes in numerical order. \n",
    "\n",
    "> https://data.lacity.org/api/views/y8tr-7khq/files/3a967fbd-f210-4857-bc52-60230efe256c?download=true&filename=MO%20CODES%20(numerical%20order).pdf\n",
    "\n",
    "### Descent Code: \n",
    "\n",
    "> - A - Other Asian \n",
    "- B - Black \n",
    "- C - Chinese \n",
    "- D - Cambodian\n",
    "- F - Filipino\n",
    "- G - Guamanian\n",
    "- H - Hispanic/Latin/Mexican\n",
    "- I - American Indian/Alaskan Native\n",
    "- J - Japanese\n",
    "- K - Korean\n",
    "- L - Laotian\n",
    "- O - Other\n",
    "- P - PacificIslander\n",
    "- S - Samoan\n",
    "- U - Hawaiian\n",
    "- V - Vietnamese\n",
    "- W - White\n",
    "- X - Unknown\n",
    "- Z - Asian Indian\n",
    "\n",
    "### Location\n",
    "\n",
    "> The location where the crime incident occurred.\n",
    "> Actual address is omitted for confidentiality. \n",
    "> XY coordinates reflect the nearest 100 block.\n",
    "\n",
    "Location je kategorický atribút v tvare *(x, y)*.\n",
    "\n",
    "### Address a Cross Street\n",
    "\n",
    ">Address fields are only provided to the nearest hundred block in order to maintain privacy.\n",
    "\n",
    "> Cross Street of rounded Address.\n",
    "\n",
    "### Weapon Description/Weapon Used Code\n",
    "\n",
    "> The type of weapon used in the crime. \n",
    "\n",
    "Tento atribút môžeme teoreticky použiť ako vlastnosť, ktorá hovorí o tom, či pri čine bola použitá zbraň,\n",
    "alebo nie. Respektíve, môže hovoriť o tom, či bol čin násilný, alebo nie.\n",
    "\n",
    "\n",
    "### Good info\n",
    "\n",
    "- http://scikit-learn.org/stable/modules/generated/sklearn.preprocessing.OneHotEncoder.html#sklearn.preprocessing.OneHotEncoder\n",
    "- http://scikit-learn.org/stable/tutorial/statistical_inference/supervised_learning.html#support-vector-machines-svms\n",
    "- http://scikit-learn.org/stable/tutorial/statistical_inference/supervised_learning.html#nearest-neighbor-and-the-curse-of-dimensionality\n",
    "- https://medium.com/@agarwalvibhor84/getting-started-with-machine-learning-using-sklearn-python-7d165618eddf\n",
    "- http://efavdb.com/predicting-san-francisco-crimes/\n",
    "- https://www.kaggle.com/jsmwoolf/los-angeles-crime-analysis\n"
   ]
  },
  {
   "cell_type": "code",
   "execution_count": 1,
   "metadata": {},
   "outputs": [],
   "source": [
    "import numpy as np\n",
    "import pandas as pd\n",
    "import matplotlib.pyplot as plt\n",
    "import seaborn as sns\n",
    "%matplotlib inline"
   ]
  },
  {
   "cell_type": "code",
   "execution_count": 2,
   "metadata": {},
   "outputs": [],
   "source": [
    "data = pd.read_csv('data//Crime_Data_2010_2017.csv')"
   ]
  },
  {
   "cell_type": "code",
   "execution_count": 3,
   "metadata": {},
   "outputs": [
    {
     "data": {
      "text/html": [
       "<div>\n",
       "<style>\n",
       "    .dataframe thead tr:only-child th {\n",
       "        text-align: right;\n",
       "    }\n",
       "\n",
       "    .dataframe thead th {\n",
       "        text-align: left;\n",
       "    }\n",
       "\n",
       "    .dataframe tbody tr th {\n",
       "        vertical-align: top;\n",
       "    }\n",
       "</style>\n",
       "<table border=\"1\" class=\"dataframe\">\n",
       "  <thead>\n",
       "    <tr style=\"text-align: right;\">\n",
       "      <th></th>\n",
       "      <th>DR Number</th>\n",
       "      <th>Date Reported</th>\n",
       "      <th>Date Occurred</th>\n",
       "      <th>Time Occurred</th>\n",
       "      <th>Area ID</th>\n",
       "      <th>Area Name</th>\n",
       "      <th>Reporting District</th>\n",
       "      <th>Crime Code</th>\n",
       "      <th>Crime Code Description</th>\n",
       "      <th>MO Codes</th>\n",
       "      <th>...</th>\n",
       "      <th>Weapon Description</th>\n",
       "      <th>Status Code</th>\n",
       "      <th>Status Description</th>\n",
       "      <th>Crime Code 1</th>\n",
       "      <th>Crime Code 2</th>\n",
       "      <th>Crime Code 3</th>\n",
       "      <th>Crime Code 4</th>\n",
       "      <th>Address</th>\n",
       "      <th>Cross Street</th>\n",
       "      <th>Location</th>\n",
       "    </tr>\n",
       "  </thead>\n",
       "  <tbody>\n",
       "    <tr>\n",
       "      <th>0</th>\n",
       "      <td>1208575</td>\n",
       "      <td>03/14/2013</td>\n",
       "      <td>03/11/2013</td>\n",
       "      <td>1800</td>\n",
       "      <td>12</td>\n",
       "      <td>77th Street</td>\n",
       "      <td>1241</td>\n",
       "      <td>626</td>\n",
       "      <td>INTIMATE PARTNER - SIMPLE ASSAULT</td>\n",
       "      <td>0416 0446 1243 2000</td>\n",
       "      <td>...</td>\n",
       "      <td>STRONG-ARM (HANDS, FIST, FEET OR BODILY FORCE)</td>\n",
       "      <td>AO</td>\n",
       "      <td>Adult Other</td>\n",
       "      <td>626.0</td>\n",
       "      <td>NaN</td>\n",
       "      <td>NaN</td>\n",
       "      <td>NaN</td>\n",
       "      <td>6300    BRYNHURST                    AV</td>\n",
       "      <td>NaN</td>\n",
       "      <td>(33.9829, -118.3338)</td>\n",
       "    </tr>\n",
       "    <tr>\n",
       "      <th>1</th>\n",
       "      <td>102005556</td>\n",
       "      <td>01/25/2010</td>\n",
       "      <td>01/22/2010</td>\n",
       "      <td>2300</td>\n",
       "      <td>20</td>\n",
       "      <td>Olympic</td>\n",
       "      <td>2071</td>\n",
       "      <td>510</td>\n",
       "      <td>VEHICLE - STOLEN</td>\n",
       "      <td>NaN</td>\n",
       "      <td>...</td>\n",
       "      <td>NaN</td>\n",
       "      <td>IC</td>\n",
       "      <td>Invest Cont</td>\n",
       "      <td>510.0</td>\n",
       "      <td>NaN</td>\n",
       "      <td>NaN</td>\n",
       "      <td>NaN</td>\n",
       "      <td>VAN NESS</td>\n",
       "      <td>15TH</td>\n",
       "      <td>(34.0454, -118.3157)</td>\n",
       "    </tr>\n",
       "  </tbody>\n",
       "</table>\n",
       "<p>2 rows × 26 columns</p>\n",
       "</div>"
      ],
      "text/plain": [
       "   DR Number Date Reported Date Occurred  Time Occurred  Area ID    Area Name  \\\n",
       "0    1208575    03/14/2013    03/11/2013           1800       12  77th Street   \n",
       "1  102005556    01/25/2010    01/22/2010           2300       20      Olympic   \n",
       "\n",
       "   Reporting District  Crime Code             Crime Code Description  \\\n",
       "0                1241         626  INTIMATE PARTNER - SIMPLE ASSAULT   \n",
       "1                2071         510                   VEHICLE - STOLEN   \n",
       "\n",
       "              MO Codes          ...           \\\n",
       "0  0416 0446 1243 2000          ...            \n",
       "1                  NaN          ...            \n",
       "\n",
       "                               Weapon Description Status Code  \\\n",
       "0  STRONG-ARM (HANDS, FIST, FEET OR BODILY FORCE)          AO   \n",
       "1                                             NaN          IC   \n",
       "\n",
       "  Status Description  Crime Code 1 Crime Code 2  Crime Code 3 Crime Code 4  \\\n",
       "0        Adult Other         626.0          NaN           NaN          NaN   \n",
       "1        Invest Cont         510.0          NaN           NaN          NaN   \n",
       "\n",
       "                                   Address Cross Street             Location   \n",
       "0  6300    BRYNHURST                    AV          NaN  (33.9829, -118.3338)  \n",
       "1                                 VAN NESS         15TH  (34.0454, -118.3157)  \n",
       "\n",
       "[2 rows x 26 columns]"
      ]
     },
     "execution_count": 3,
     "metadata": {},
     "output_type": "execute_result"
    }
   ],
   "source": [
    "data.head(2)"
   ]
  },
  {
   "cell_type": "code",
   "execution_count": 63,
   "metadata": {},
   "outputs": [
    {
     "data": {
      "text/plain": [
       "13"
      ]
     },
     "execution_count": 63,
     "metadata": {},
     "output_type": "execute_result"
    }
   ],
   "source": [
    "data"
   ]
  },
  {
   "cell_type": "code",
   "execution_count": 5,
   "metadata": {},
   "outputs": [
    {
     "data": {
      "text/html": [
       "<div>\n",
       "<style>\n",
       "    .dataframe thead tr:only-child th {\n",
       "        text-align: right;\n",
       "    }\n",
       "\n",
       "    .dataframe thead th {\n",
       "        text-align: left;\n",
       "    }\n",
       "\n",
       "    .dataframe tbody tr th {\n",
       "        vertical-align: top;\n",
       "    }\n",
       "</style>\n",
       "<table border=\"1\" class=\"dataframe\">\n",
       "  <thead>\n",
       "    <tr style=\"text-align: right;\">\n",
       "      <th></th>\n",
       "      <th>DR Number</th>\n",
       "      <th>Date Reported</th>\n",
       "      <th>Date Occurred</th>\n",
       "      <th>Time Occurred</th>\n",
       "      <th>Area Name</th>\n",
       "      <th>Crime Code Description</th>\n",
       "      <th>Victim Age</th>\n",
       "      <th>Victim Sex</th>\n",
       "      <th>Victim Descent</th>\n",
       "      <th>Premise Description</th>\n",
       "      <th>Status Description</th>\n",
       "      <th>Crime Code 1</th>\n",
       "      <th>Address</th>\n",
       "      <th>Location</th>\n",
       "    </tr>\n",
       "  </thead>\n",
       "  <tbody>\n",
       "    <tr>\n",
       "      <th>0</th>\n",
       "      <td>1208575</td>\n",
       "      <td>03/14/2013</td>\n",
       "      <td>03/11/2013</td>\n",
       "      <td>1800</td>\n",
       "      <td>77th Street</td>\n",
       "      <td>INTIMATE PARTNER - SIMPLE ASSAULT</td>\n",
       "      <td>30.0</td>\n",
       "      <td>F</td>\n",
       "      <td>W</td>\n",
       "      <td>MULTI-UNIT DWELLING (APARTMENT, DUPLEX, ETC)</td>\n",
       "      <td>Adult Other</td>\n",
       "      <td>626.0</td>\n",
       "      <td>6300    BRYNHURST                    AV</td>\n",
       "      <td>(33.9829, -118.3338)</td>\n",
       "    </tr>\n",
       "    <tr>\n",
       "      <th>1</th>\n",
       "      <td>102005556</td>\n",
       "      <td>01/25/2010</td>\n",
       "      <td>01/22/2010</td>\n",
       "      <td>2300</td>\n",
       "      <td>Olympic</td>\n",
       "      <td>VEHICLE - STOLEN</td>\n",
       "      <td>NaN</td>\n",
       "      <td>NaN</td>\n",
       "      <td>NaN</td>\n",
       "      <td>STREET</td>\n",
       "      <td>Invest Cont</td>\n",
       "      <td>510.0</td>\n",
       "      <td>VAN NESS</td>\n",
       "      <td>(34.0454, -118.3157)</td>\n",
       "    </tr>\n",
       "  </tbody>\n",
       "</table>\n",
       "</div>"
      ],
      "text/plain": [
       "   DR Number Date Reported Date Occurred  Time Occurred    Area Name  \\\n",
       "0    1208575    03/14/2013    03/11/2013           1800  77th Street   \n",
       "1  102005556    01/25/2010    01/22/2010           2300      Olympic   \n",
       "\n",
       "              Crime Code Description  Victim Age Victim Sex Victim Descent  \\\n",
       "0  INTIMATE PARTNER - SIMPLE ASSAULT        30.0          F              W   \n",
       "1                   VEHICLE - STOLEN         NaN        NaN            NaN   \n",
       "\n",
       "                            Premise Description Status Description  \\\n",
       "0  MULTI-UNIT DWELLING (APARTMENT, DUPLEX, ETC)        Adult Other   \n",
       "1                                        STREET        Invest Cont   \n",
       "\n",
       "   Crime Code 1                                  Address             Location   \n",
       "0         626.0  6300    BRYNHURST                    AV  (33.9829, -118.3338)  \n",
       "1         510.0                                 VAN NESS  (34.0454, -118.3157)  "
      ]
     },
     "execution_count": 5,
     "metadata": {},
     "output_type": "execute_result"
    }
   ],
   "source": [
    "columns_to_drop = ['Area ID', 'Premise Code', 'Reporting District', 'Crime Code', 'MO Codes', 'Weapon Used Code', 'Weapon Description', 'Status Code', 'Crime Code 2', 'Crime Code 3', 'Crime Code 4', 'Cross Street']\n",
    "df_coldrop = data.drop(columns_to_drop, axis=1)\n",
    "df_coldrop.head(2)\n",
    "# DR Number netreba\n",
    "# Date Reporter, Date Occurred - ako analyzovat?\n",
    "# crime code netreba\n",
    "# "
   ]
  },
  {
   "cell_type": "code",
   "execution_count": 97,
   "metadata": {},
   "outputs": [
    {
     "data": {
      "text/plain": [
       "1327814"
      ]
     },
     "execution_count": 97,
     "metadata": {},
     "output_type": "execute_result"
    }
   ],
   "source": [
    "# pocet bez NaN\n",
    "# pandas pri slicingu robi iba VIEWS\n",
    "# preto treba vytvorit novy DF pomocou copy()\n",
    "df_victims_only = df_coldrop.dropna().copy()\n",
    "len(df_victims_only)"
   ]
  },
  {
   "cell_type": "code",
   "execution_count": 75,
   "metadata": {},
   "outputs": [
    {
     "data": {
      "text/plain": [
       "210"
      ]
     },
     "execution_count": 75,
     "metadata": {},
     "output_type": "execute_result"
    }
   ],
   "source": [
    "len(df_victims_only['Premise Description'].unique())\n",
    "# date occured - je to casvovy sled mozme usporiadat\n",
    "# podobne prace, sklearn, podobne ulohy, kaggle\n",
    "# bar plot - histogram = po dummy_variables, pozri, ktore sltpce maju malu pocetnost, vyhodit je\n",
    "# location - pozriet rozdiely, min, max, dev?"
   ]
  },
  {
   "cell_type": "code",
   "execution_count": 76,
   "metadata": {},
   "outputs": [
    {
     "data": {
      "text/plain": [
       "1584316"
      ]
     },
     "execution_count": 76,
     "metadata": {},
     "output_type": "execute_result"
    }
   ],
   "source": [
    "# pocet s NaN\n",
    "len(df_coldrop)\n"
   ]
  },
  {
   "cell_type": "code",
   "execution_count": 77,
   "metadata": {},
   "outputs": [
    {
     "data": {
      "text/plain": [
       "array(['(33.9829, -118.3338)', '(34.2009, -118.6369)',\n",
       "       '(34.0591, -118.2412)', ..., '(34.2934, -118.4475)',\n",
       "       '(34.1673, -118.64)', '(34.1983, -118.5873)'], dtype=object)"
      ]
     },
     "execution_count": 77,
     "metadata": {},
     "output_type": "execute_result"
    }
   ],
   "source": [
    "df_victims_only['Location '].unique()\n",
    "# 58989 unikatnych GPS suradnic"
   ]
  },
  {
   "cell_type": "code",
   "execution_count": 78,
   "metadata": {},
   "outputs": [
    {
     "data": {
      "text/plain": [
       "68282"
      ]
     },
     "execution_count": 78,
     "metadata": {},
     "output_type": "execute_result"
    }
   ],
   "source": [
    "len(df_victims_only['Address'].unique())\n",
    "# 68282 unikatnych Adries"
   ]
  },
  {
   "cell_type": "code",
   "execution_count": 79,
   "metadata": {},
   "outputs": [
    {
     "data": {
      "text/plain": [
       "21"
      ]
     },
     "execution_count": 79,
     "metadata": {},
     "output_type": "execute_result"
    }
   ],
   "source": [
    "len(df_victims_only['Area Name'].unique())\n",
    "# 21 unikatnych Area name"
   ]
  },
  {
   "cell_type": "code",
   "execution_count": 80,
   "metadata": {},
   "outputs": [],
   "source": [
    "# def strip0(string):\n",
    "#     l = string.split(',').replace('')\n",
    "#     return (l[0], l[1])\n",
    "import re\n",
    "\n",
    "def coords_f(coord):\n",
    "    matchObj = re.match(r'\\((.*), (.*)\\)', coord)\n",
    "    return (matchObj.group(1), matchObj.group(2))\n",
    "coords_tuples = list(map(coords_f, df_victims_only['Location '].unique()))\n",
    "#coords_tuples\n",
    "# min(coords_tuples, key = lambda x: x[0])\n"
   ]
  },
  {
   "cell_type": "code",
   "execution_count": 81,
   "metadata": {},
   "outputs": [],
   "source": [
    "#list(df_victims_only['Time Occurred'].unique()\n"
   ]
  },
  {
   "cell_type": "code",
   "execution_count": 82,
   "metadata": {},
   "outputs": [
    {
     "data": {
      "text/plain": [
       "0     1800\n",
       "4     2300\n",
       "5     1400\n",
       "9      800\n",
       "12    1200\n",
       "13    1200\n",
       "14    2030\n",
       "15     500\n",
       "16    1420\n",
       "17    1430\n",
       "Name: Time Occurred, dtype: int64"
      ]
     },
     "execution_count": 82,
     "metadata": {},
     "output_type": "execute_result"
    }
   ],
   "source": [
    "df_victims_only['Time Occurred'].head(10)"
   ]
  },
  {
   "cell_type": "code",
   "execution_count": 83,
   "metadata": {},
   "outputs": [
    {
     "data": {
      "text/plain": [
       "0       evening\n",
       "4         night\n",
       "5     afternoon\n",
       "9       morning\n",
       "12      morning\n",
       "Name: Time Occurred, dtype: category\n",
       "Categories (5, object): [night < morning < afternoon < evening < night2]"
      ]
     },
     "execution_count": 83,
     "metadata": {},
     "output_type": "execute_result"
    }
   ],
   "source": [
    "# cas sme rozbinovali na kategoricke premenne podla intervalov:\n",
    "# (2100, 500> night\n",
    "# (500, 1200> morning\n",
    "# (1200, 1700> afternoon\n",
    "# (1700, 2100> evening\n",
    "pd.cut(df_victims_only['Time Occurred'], [0, 500, 1200, 1700, 2100, 2400], labels=['night', 'morning', 'afternoon', 'evening', 'night2']).replace('night2', 'night').head()"
   ]
  },
  {
   "cell_type": "code",
   "execution_count": 84,
   "metadata": {},
   "outputs": [
    {
     "data": {
      "text/html": [
       "<div>\n",
       "<style>\n",
       "    .dataframe thead tr:only-child th {\n",
       "        text-align: right;\n",
       "    }\n",
       "\n",
       "    .dataframe thead th {\n",
       "        text-align: left;\n",
       "    }\n",
       "\n",
       "    .dataframe tbody tr th {\n",
       "        vertical-align: top;\n",
       "    }\n",
       "</style>\n",
       "<table border=\"1\" class=\"dataframe\">\n",
       "  <thead>\n",
       "    <tr style=\"text-align: right;\">\n",
       "      <th></th>\n",
       "      <th>DR Number</th>\n",
       "      <th>Date Reported</th>\n",
       "      <th>Date Occurred</th>\n",
       "      <th>Time Occurred</th>\n",
       "      <th>Victim Age</th>\n",
       "      <th>Status Description</th>\n",
       "      <th>Crime Code 1</th>\n",
       "      <th>Address</th>\n",
       "      <th>Location</th>\n",
       "      <th>Area Name_Central</th>\n",
       "      <th>...</th>\n",
       "      <th>Victim Descent_K</th>\n",
       "      <th>Victim Descent_L</th>\n",
       "      <th>Victim Descent_O</th>\n",
       "      <th>Victim Descent_P</th>\n",
       "      <th>Victim Descent_S</th>\n",
       "      <th>Victim Descent_U</th>\n",
       "      <th>Victim Descent_V</th>\n",
       "      <th>Victim Descent_W</th>\n",
       "      <th>Victim Descent_X</th>\n",
       "      <th>Victim Descent_Z</th>\n",
       "    </tr>\n",
       "  </thead>\n",
       "  <tbody>\n",
       "    <tr>\n",
       "      <th>0</th>\n",
       "      <td>1208575</td>\n",
       "      <td>03/14/2013</td>\n",
       "      <td>03/11/2013</td>\n",
       "      <td>1800</td>\n",
       "      <td>30.0</td>\n",
       "      <td>Adult Other</td>\n",
       "      <td>626.0</td>\n",
       "      <td>6300    BRYNHURST                    AV</td>\n",
       "      <td>(33.9829, -118.3338)</td>\n",
       "      <td>0</td>\n",
       "      <td>...</td>\n",
       "      <td>0</td>\n",
       "      <td>0</td>\n",
       "      <td>0</td>\n",
       "      <td>0</td>\n",
       "      <td>0</td>\n",
       "      <td>0</td>\n",
       "      <td>0</td>\n",
       "      <td>1</td>\n",
       "      <td>0</td>\n",
       "      <td>0</td>\n",
       "    </tr>\n",
       "    <tr>\n",
       "      <th>4</th>\n",
       "      <td>42104479</td>\n",
       "      <td>01/11/2014</td>\n",
       "      <td>01/04/2014</td>\n",
       "      <td>2300</td>\n",
       "      <td>84.0</td>\n",
       "      <td>Invest Cont</td>\n",
       "      <td>745.0</td>\n",
       "      <td>7200    CIRRUS                       WY</td>\n",
       "      <td>(34.2009, -118.6369)</td>\n",
       "      <td>0</td>\n",
       "      <td>...</td>\n",
       "      <td>0</td>\n",
       "      <td>0</td>\n",
       "      <td>0</td>\n",
       "      <td>0</td>\n",
       "      <td>0</td>\n",
       "      <td>0</td>\n",
       "      <td>0</td>\n",
       "      <td>1</td>\n",
       "      <td>0</td>\n",
       "      <td>0</td>\n",
       "    </tr>\n",
       "    <tr>\n",
       "      <th>5</th>\n",
       "      <td>120125367</td>\n",
       "      <td>01/08/2013</td>\n",
       "      <td>01/08/2013</td>\n",
       "      <td>1400</td>\n",
       "      <td>49.0</td>\n",
       "      <td>Adult Arrest</td>\n",
       "      <td>110.0</td>\n",
       "      <td>600 N  HILL                         ST</td>\n",
       "      <td>(34.0591, -118.2412)</td>\n",
       "      <td>1</td>\n",
       "      <td>...</td>\n",
       "      <td>0</td>\n",
       "      <td>0</td>\n",
       "      <td>0</td>\n",
       "      <td>0</td>\n",
       "      <td>0</td>\n",
       "      <td>0</td>\n",
       "      <td>0</td>\n",
       "      <td>1</td>\n",
       "      <td>0</td>\n",
       "      <td>0</td>\n",
       "    </tr>\n",
       "    <tr>\n",
       "      <th>9</th>\n",
       "      <td>120908292</td>\n",
       "      <td>03/29/2013</td>\n",
       "      <td>01/15/2013</td>\n",
       "      <td>800</td>\n",
       "      <td>27.0</td>\n",
       "      <td>Invest Cont</td>\n",
       "      <td>668.0</td>\n",
       "      <td>7200    SEPULVEDA                    BL</td>\n",
       "      <td>(34.2012, -118.4662)</td>\n",
       "      <td>0</td>\n",
       "      <td>...</td>\n",
       "      <td>0</td>\n",
       "      <td>0</td>\n",
       "      <td>1</td>\n",
       "      <td>0</td>\n",
       "      <td>0</td>\n",
       "      <td>0</td>\n",
       "      <td>0</td>\n",
       "      <td>0</td>\n",
       "      <td>0</td>\n",
       "      <td>0</td>\n",
       "    </tr>\n",
       "    <tr>\n",
       "      <th>12</th>\n",
       "      <td>121207315</td>\n",
       "      <td>02/22/2013</td>\n",
       "      <td>02/13/2013</td>\n",
       "      <td>1200</td>\n",
       "      <td>42.0</td>\n",
       "      <td>Invest Cont</td>\n",
       "      <td>440.0</td>\n",
       "      <td>82ND</td>\n",
       "      <td>(33.9651, -118.2783)</td>\n",
       "      <td>0</td>\n",
       "      <td>...</td>\n",
       "      <td>0</td>\n",
       "      <td>0</td>\n",
       "      <td>0</td>\n",
       "      <td>0</td>\n",
       "      <td>0</td>\n",
       "      <td>0</td>\n",
       "      <td>0</td>\n",
       "      <td>0</td>\n",
       "      <td>0</td>\n",
       "      <td>0</td>\n",
       "    </tr>\n",
       "  </tbody>\n",
       "</table>\n",
       "<p>5 rows × 393 columns</p>\n",
       "</div>"
      ],
      "text/plain": [
       "    DR Number Date Reported Date Occurred  Time Occurred  Victim Age  \\\n",
       "0     1208575    03/14/2013    03/11/2013           1800        30.0   \n",
       "4    42104479    01/11/2014    01/04/2014           2300        84.0   \n",
       "5   120125367    01/08/2013    01/08/2013           1400        49.0   \n",
       "9   120908292    03/29/2013    01/15/2013            800        27.0   \n",
       "12  121207315    02/22/2013    02/13/2013           1200        42.0   \n",
       "\n",
       "   Status Description  Crime Code 1                                  Address  \\\n",
       "0         Adult Other         626.0  6300    BRYNHURST                    AV   \n",
       "4         Invest Cont         745.0  7200    CIRRUS                       WY   \n",
       "5        Adult Arrest         110.0   600 N  HILL                         ST   \n",
       "9         Invest Cont         668.0  7200    SEPULVEDA                    BL   \n",
       "12        Invest Cont         440.0                                     82ND   \n",
       "\n",
       "               Location   Area Name_Central        ...         \\\n",
       "0   (33.9829, -118.3338)                  0        ...          \n",
       "4   (34.2009, -118.6369)                  0        ...          \n",
       "5   (34.0591, -118.2412)                  1        ...          \n",
       "9   (34.2012, -118.4662)                  0        ...          \n",
       "12  (33.9651, -118.2783)                  0        ...          \n",
       "\n",
       "    Victim Descent_K  Victim Descent_L  Victim Descent_O  Victim Descent_P  \\\n",
       "0                  0                 0                 0                 0   \n",
       "4                  0                 0                 0                 0   \n",
       "5                  0                 0                 0                 0   \n",
       "9                  0                 0                 1                 0   \n",
       "12                 0                 0                 0                 0   \n",
       "\n",
       "    Victim Descent_S  Victim Descent_U  Victim Descent_V  Victim Descent_W  \\\n",
       "0                  0                 0                 0                 1   \n",
       "4                  0                 0                 0                 1   \n",
       "5                  0                 0                 0                 1   \n",
       "9                  0                 0                 0                 0   \n",
       "12                 0                 0                 0                 0   \n",
       "\n",
       "    Victim Descent_X  Victim Descent_Z  \n",
       "0                  0                 0  \n",
       "4                  0                 0  \n",
       "5                  0                 0  \n",
       "9                  0                 0  \n",
       "12                 0                 0  \n",
       "\n",
       "[5 rows x 393 columns]"
      ]
     },
     "execution_count": 84,
     "metadata": {},
     "output_type": "execute_result"
    }
   ],
   "source": [
    "pd.get_dummies(df_victims_only, columns=['Area Name', 'Crime Code Description', 'Premise Description', 'Victim Sex', 'Victim Descent'], drop_first=True).head()"
   ]
  },
  {
   "cell_type": "code",
   "execution_count": 98,
   "metadata": {},
   "outputs": [],
   "source": [
    "# Victim age z float do int\n",
    "a = df_victims_only[\"Victim Age\"].astype(int).copy()\n",
    "df_victims_only[\"Victim Age\"] = a"
   ]
  },
  {
   "cell_type": "code",
   "execution_count": 100,
   "metadata": {},
   "outputs": [
    {
     "data": {
      "text/html": [
       "<div>\n",
       "<style>\n",
       "    .dataframe thead tr:only-child th {\n",
       "        text-align: right;\n",
       "    }\n",
       "\n",
       "    .dataframe thead th {\n",
       "        text-align: left;\n",
       "    }\n",
       "\n",
       "    .dataframe tbody tr th {\n",
       "        vertical-align: top;\n",
       "    }\n",
       "</style>\n",
       "<table border=\"1\" class=\"dataframe\">\n",
       "  <thead>\n",
       "    <tr style=\"text-align: right;\">\n",
       "      <th></th>\n",
       "      <th>DR Number</th>\n",
       "      <th>Date Reported</th>\n",
       "      <th>Date Occurred</th>\n",
       "      <th>Time Occurred</th>\n",
       "      <th>Area Name</th>\n",
       "      <th>Crime Code Description</th>\n",
       "      <th>Victim Age</th>\n",
       "      <th>Victim Sex</th>\n",
       "      <th>Victim Descent</th>\n",
       "      <th>Premise Description</th>\n",
       "      <th>Status Description</th>\n",
       "      <th>Crime Code 1</th>\n",
       "      <th>Address</th>\n",
       "      <th>Location</th>\n",
       "    </tr>\n",
       "  </thead>\n",
       "  <tbody>\n",
       "    <tr>\n",
       "      <th>0</th>\n",
       "      <td>1208575</td>\n",
       "      <td>03/14/2013</td>\n",
       "      <td>03/11/2013</td>\n",
       "      <td>1800</td>\n",
       "      <td>77th Street</td>\n",
       "      <td>INTIMATE PARTNER - SIMPLE ASSAULT</td>\n",
       "      <td>30</td>\n",
       "      <td>F</td>\n",
       "      <td>W</td>\n",
       "      <td>MULTI-UNIT DWELLING (APARTMENT, DUPLEX, ETC)</td>\n",
       "      <td>Adult Other</td>\n",
       "      <td>626.0</td>\n",
       "      <td>6300    BRYNHURST                    AV</td>\n",
       "      <td>(33.9829, -118.3338)</td>\n",
       "    </tr>\n",
       "    <tr>\n",
       "      <th>4</th>\n",
       "      <td>42104479</td>\n",
       "      <td>01/11/2014</td>\n",
       "      <td>01/04/2014</td>\n",
       "      <td>2300</td>\n",
       "      <td>Topanga</td>\n",
       "      <td>VANDALISM - MISDEAMEANOR ($399 OR UNDER)</td>\n",
       "      <td>84</td>\n",
       "      <td>M</td>\n",
       "      <td>W</td>\n",
       "      <td>SINGLE FAMILY DWELLING</td>\n",
       "      <td>Invest Cont</td>\n",
       "      <td>745.0</td>\n",
       "      <td>7200    CIRRUS                       WY</td>\n",
       "      <td>(34.2009, -118.6369)</td>\n",
       "    </tr>\n",
       "    <tr>\n",
       "      <th>5</th>\n",
       "      <td>120125367</td>\n",
       "      <td>01/08/2013</td>\n",
       "      <td>01/08/2013</td>\n",
       "      <td>1400</td>\n",
       "      <td>Central</td>\n",
       "      <td>CRIMINAL HOMICIDE</td>\n",
       "      <td>49</td>\n",
       "      <td>F</td>\n",
       "      <td>W</td>\n",
       "      <td>SINGLE FAMILY DWELLING</td>\n",
       "      <td>Adult Arrest</td>\n",
       "      <td>110.0</td>\n",
       "      <td>600 N  HILL                         ST</td>\n",
       "      <td>(34.0591, -118.2412)</td>\n",
       "    </tr>\n",
       "    <tr>\n",
       "      <th>9</th>\n",
       "      <td>120908292</td>\n",
       "      <td>03/29/2013</td>\n",
       "      <td>01/15/2013</td>\n",
       "      <td>800</td>\n",
       "      <td>Van Nuys</td>\n",
       "      <td>EMBEZZLEMENT, GRAND THEFT ($950.01 &amp; OVER)</td>\n",
       "      <td>27</td>\n",
       "      <td>F</td>\n",
       "      <td>O</td>\n",
       "      <td>OTHER BUSINESS</td>\n",
       "      <td>Invest Cont</td>\n",
       "      <td>668.0</td>\n",
       "      <td>7200    SEPULVEDA                    BL</td>\n",
       "      <td>(34.2012, -118.4662)</td>\n",
       "    </tr>\n",
       "    <tr>\n",
       "      <th>12</th>\n",
       "      <td>121207315</td>\n",
       "      <td>02/22/2013</td>\n",
       "      <td>02/13/2013</td>\n",
       "      <td>1200</td>\n",
       "      <td>77th Street</td>\n",
       "      <td>THEFT PLAIN - PETTY ($950 &amp; UNDER)</td>\n",
       "      <td>42</td>\n",
       "      <td>M</td>\n",
       "      <td>H</td>\n",
       "      <td>PARKING LOT</td>\n",
       "      <td>Invest Cont</td>\n",
       "      <td>440.0</td>\n",
       "      <td>82ND</td>\n",
       "      <td>(33.9651, -118.2783)</td>\n",
       "    </tr>\n",
       "  </tbody>\n",
       "</table>\n",
       "</div>"
      ],
      "text/plain": [
       "    DR Number Date Reported Date Occurred  Time Occurred    Area Name  \\\n",
       "0     1208575    03/14/2013    03/11/2013           1800  77th Street   \n",
       "4    42104479    01/11/2014    01/04/2014           2300      Topanga   \n",
       "5   120125367    01/08/2013    01/08/2013           1400      Central   \n",
       "9   120908292    03/29/2013    01/15/2013            800     Van Nuys   \n",
       "12  121207315    02/22/2013    02/13/2013           1200  77th Street   \n",
       "\n",
       "                        Crime Code Description  Victim Age Victim Sex  \\\n",
       "0            INTIMATE PARTNER - SIMPLE ASSAULT          30          F   \n",
       "4     VANDALISM - MISDEAMEANOR ($399 OR UNDER)          84          M   \n",
       "5                            CRIMINAL HOMICIDE          49          F   \n",
       "9   EMBEZZLEMENT, GRAND THEFT ($950.01 & OVER)          27          F   \n",
       "12          THEFT PLAIN - PETTY ($950 & UNDER)          42          M   \n",
       "\n",
       "   Victim Descent                           Premise Description  \\\n",
       "0               W  MULTI-UNIT DWELLING (APARTMENT, DUPLEX, ETC)   \n",
       "4               W                        SINGLE FAMILY DWELLING   \n",
       "5               W                        SINGLE FAMILY DWELLING   \n",
       "9               O                                OTHER BUSINESS   \n",
       "12              H                                   PARKING LOT   \n",
       "\n",
       "   Status Description  Crime Code 1                                  Address  \\\n",
       "0         Adult Other         626.0  6300    BRYNHURST                    AV   \n",
       "4         Invest Cont         745.0  7200    CIRRUS                       WY   \n",
       "5        Adult Arrest         110.0   600 N  HILL                         ST   \n",
       "9         Invest Cont         668.0  7200    SEPULVEDA                    BL   \n",
       "12        Invest Cont         440.0                                     82ND   \n",
       "\n",
       "               Location   \n",
       "0   (33.9829, -118.3338)  \n",
       "4   (34.2009, -118.6369)  \n",
       "5   (34.0591, -118.2412)  \n",
       "9   (34.2012, -118.4662)  \n",
       "12  (33.9651, -118.2783)  "
      ]
     },
     "execution_count": 100,
     "metadata": {},
     "output_type": "execute_result"
    }
   ],
   "source": [
    "df_victims_only.head()"
   ]
  },
  {
   "cell_type": "code",
   "execution_count": 101,
   "metadata": {},
   "outputs": [
    {
     "data": {
      "text/plain": [
       "<matplotlib.text.Text at 0x1db2a83d208>"
      ]
     },
     "execution_count": 101,
     "metadata": {},
     "output_type": "execute_result"
    },
    {
     "data": {
      "image/png": "[encoded data removed]",
      "text/plain": [
       "<matplotlib.figure.Figure at 0x1db2b1e6048>"
      ]
     },
     "metadata": {},
     "output_type": "display_data"
    }
   ],
   "source": [
    "sns.countplot('Victim Descent', data=data).set_title('Obete podla povodu')"
   ]
  },
  {
   "cell_type": "code",
   "execution_count": 102,
   "metadata": {},
   "outputs": [
    {
     "data": {
      "text/plain": [
       "array(['W', 'O', 'H', 'B', 'A', 'F', 'I', 'K', 'G', 'C', 'X', 'J', 'P',\n",
       "       'V', 'U', 'Z', 'L', 'S', 'D', '-'], dtype=object)"
      ]
     },
     "execution_count": 102,
     "metadata": {},
     "output_type": "execute_result"
    }
   ],
   "source": [
    "df_victims_only['Victim Descent'].unique()"
   ]
  },
  {
   "cell_type": "code",
   "execution_count": null,
   "metadata": {},
   "outputs": [],
   "source": []
  }
 ],
 "metadata": {
  "kernelspec": {
   "display_name": "Python 3",
   "language": "python",
   "name": "python3"
  },
  "language_info": {
   "codemirror_mode": {
    "name": "ipython",
    "version": 3
   },
   "file_extension": ".py",
   "mimetype": "text/x-python",
   "name": "python",
   "nbconvert_exporter": "python",
   "pygments_lexer": "ipython3",
   "version": "3.6.2"
  }
 },
 "nbformat": 4,
 "nbformat_minor": 2
}
