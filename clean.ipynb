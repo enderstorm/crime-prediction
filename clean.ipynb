{
 "cells": [
  {
   "cell_type": "markdown",
   "metadata": {},
   "source": [
    "# Opis dát a preprocessing\n",
    "\n",
    "Oficiálny opis a zdroj datasetu: https://data.lacity.org/A-Safe-City/Crime-Data-from-2010-to-Present/y8tr-7khq\n",
    "\n",
    "### Time Occurred\n",
    "\n",
    "> In 24 hour military time.\n",
    "\n",
    "Teda v tvare *hhmm*. Tento atribút sme transformovali diskretizáciou na časové vedrá vyššieho konceptu nasledovne:\n",
    "\n",
    "| Vedro         | Interval      |\n",
    "| ------------- |:-------------:|\n",
    "| night         | <2100, 500)   |\n",
    "| morning       | <500, 1200)   |\n",
    "| afternoon     | <1200, 1700)  |\n",
    "| evening       | <1700, 2100)  |\n",
    "\n",
    "\n",
    "### Crime Code\n",
    "\n",
    "> Indicates the crime committed. \n",
    "> Crime Code 1 is the primary and most serious one. \n",
    "> Crime Code 2, 3, and 4 are respectively less serious offenses.\n",
    "> Lower crime class numbers are more serious.\n",
    "\n",
    "Crime code je rovnaky ako Crime code 1\n",
    "\n",
    "Crime code 2-4 nie je vsade vyplneny, preto ho dropujeme\n",
    "\n",
    "   => Preto sa zameriame na serious offenses, teda Crime Code\n",
    "   \n",
    "### Zone Id\n",
    "\n",
    "> The LAPD has 21 Community Police Stations referred to as Geographic Areas within the department. These Geographic Areas are sequentially numbered from 1-21.\n",
    "\n",
    "Zone ID su geograficke zony dvadsiatychjednych Community Police Stations\n",
    "\n",
    "### Premise Code/Description\n",
    "\n",
    "> The type of structure, vehicle, or location where the crime took place.\n",
    "\n",
    "### Victim Sex\n",
    "\n",
    "> F - Female M - Male X - Unknown\n",
    "\n",
    "### MO Codes\n",
    "\n",
    "> Modus Operandi: Activities associated with the suspect in commission of the crime. See attached PDF for list of MO Codes in numerical order. \n",
    "\n",
    "> https://data.lacity.org/api/views/y8tr-7khq/files/3a967fbd-f210-4857-bc52-60230efe256c?download=true&filename=MO%20CODES%20(numerical%20order).pdf\n",
    "\n",
    "### Descent Code: \n",
    "\n",
    "> - A - Other Asian \n",
    "- B - Black \n",
    "- C - Chinese \n",
    "- D - Cambodian\n",
    "- F - Filipino\n",
    "- G - Guamanian\n",
    "- H - Hispanic/Latin/Mexican\n",
    "- I - American Indian/Alaskan Native\n",
    "- J - Japanese\n",
    "- K - Korean\n",
    "- L - Laotian\n",
    "- O - Other\n",
    "- P - PacificIslander\n",
    "- S - Samoan\n",
    "- U - Hawaiian\n",
    "- V - Vietnamese\n",
    "- W - White\n",
    "- X - Unknown\n",
    "- Z - Asian Indian\n",
    "\n",
    "### Location\n",
    "\n",
    "> The location where the crime incident occurred.\n",
    "> Actual address is omitted for confidentiality. \n",
    "> XY coordinates reflect the nearest 100 block.\n",
    "\n",
    "Location je kategorický atribút v tvare *(x, y)*.\n",
    "\n",
    "### Address a Cross Street\n",
    "\n",
    ">Address fields are only provided to the nearest hundred block in order to maintain privacy.\n",
    "\n",
    "> Cross Street of rounded Address.\n",
    "\n",
    "### Weapon Description/Weapon Used Code\n",
    "\n",
    "> The type of weapon used in the crime. \n",
    "\n",
    "Tento atribút môžeme teoreticky použiť ako vlastnosť, ktorá hovorí o tom, či pri čine bola použitá zbraň,\n",
    "alebo nie. Respektíve, môže hovoriť o tom, či bol čin násilný, alebo nie.\n",
    "\n",
    "\n",
    "### Good info\n",
    "\n",
    "- http://scikit-learn.org/stable/modules/generated/sklearn.preprocessing.OneHotEncoder.html#sklearn.preprocessing.OneHotEncoder\n",
    "- http://scikit-learn.org/stable/tutorial/statistical_inference/supervised_learning.html#support-vector-machines-svms\n",
    "- http://scikit-learn.org/stable/tutorial/statistical_inference/supervised_learning.html#nearest-neighbor-and-the-curse-of-dimensionality\n",
    "- https://medium.com/@agarwalvibhor84/getting-started-with-machine-learning-using-sklearn-python-7d165618eddf\n",
    "- http://efavdb.com/predicting-san-francisco-crimes/\n",
    "- https://www.kaggle.com/jsmwoolf/los-angeles-crime-analysis\n"
   ]
  },
  {
   "cell_type": "code",
   "execution_count": 1,
   "metadata": {},
   "outputs": [],
   "source": [
    "import numpy as np\n",
    "import pandas as pd\n",
    "import matplotlib.pyplot as plt\n",
    "import seaborn as sns\n",
    "%matplotlib inline"
   ]
  },
  {
   "cell_type": "code",
   "execution_count": 2,
   "metadata": {},
   "outputs": [],
   "source": [
    "data = pd.read_csv('data//Crime_Data_2010_2017.csv')"
   ]
  },
  {
   "cell_type": "code",
   "execution_count": 3,
   "metadata": {},
   "outputs": [
    {
     "data": {
      "text/html": [
       "<div>\n",
       "<style scoped>\n",
       "    .dataframe tbody tr th:only-of-type {\n",
       "        vertical-align: middle;\n",
       "    }\n",
       "\n",
       "    .dataframe tbody tr th {\n",
       "        vertical-align: top;\n",
       "    }\n",
       "\n",
       "    .dataframe thead th {\n",
       "        text-align: right;\n",
       "    }\n",
       "</style>\n",
       "<table border=\"1\" class=\"dataframe\">\n",
       "  <thead>\n",
       "    <tr style=\"text-align: right;\">\n",
       "      <th></th>\n",
       "      <th>DR Number</th>\n",
       "      <th>Date Reported</th>\n",
       "      <th>Date Occurred</th>\n",
       "      <th>Time Occurred</th>\n",
       "      <th>Area ID</th>\n",
       "      <th>Area Name</th>\n",
       "      <th>Reporting District</th>\n",
       "      <th>Crime Code</th>\n",
       "      <th>Crime Code Description</th>\n",
       "      <th>MO Codes</th>\n",
       "      <th>...</th>\n",
       "      <th>Weapon Description</th>\n",
       "      <th>Status Code</th>\n",
       "      <th>Status Description</th>\n",
       "      <th>Crime Code 1</th>\n",
       "      <th>Crime Code 2</th>\n",
       "      <th>Crime Code 3</th>\n",
       "      <th>Crime Code 4</th>\n",
       "      <th>Address</th>\n",
       "      <th>Cross Street</th>\n",
       "      <th>Location</th>\n",
       "    </tr>\n",
       "  </thead>\n",
       "  <tbody>\n",
       "    <tr>\n",
       "      <th>0</th>\n",
       "      <td>1208575</td>\n",
       "      <td>03/14/2013</td>\n",
       "      <td>03/11/2013</td>\n",
       "      <td>1800</td>\n",
       "      <td>12</td>\n",
       "      <td>77th Street</td>\n",
       "      <td>1241</td>\n",
       "      <td>626</td>\n",
       "      <td>INTIMATE PARTNER - SIMPLE ASSAULT</td>\n",
       "      <td>0416 0446 1243 2000</td>\n",
       "      <td>...</td>\n",
       "      <td>STRONG-ARM (HANDS, FIST, FEET OR BODILY FORCE)</td>\n",
       "      <td>AO</td>\n",
       "      <td>Adult Other</td>\n",
       "      <td>626.0</td>\n",
       "      <td>NaN</td>\n",
       "      <td>NaN</td>\n",
       "      <td>NaN</td>\n",
       "      <td>6300    BRYNHURST                    AV</td>\n",
       "      <td>NaN</td>\n",
       "      <td>(33.9829, -118.3338)</td>\n",
       "    </tr>\n",
       "    <tr>\n",
       "      <th>1</th>\n",
       "      <td>102005556</td>\n",
       "      <td>01/25/2010</td>\n",
       "      <td>01/22/2010</td>\n",
       "      <td>2300</td>\n",
       "      <td>20</td>\n",
       "      <td>Olympic</td>\n",
       "      <td>2071</td>\n",
       "      <td>510</td>\n",
       "      <td>VEHICLE - STOLEN</td>\n",
       "      <td>NaN</td>\n",
       "      <td>...</td>\n",
       "      <td>NaN</td>\n",
       "      <td>IC</td>\n",
       "      <td>Invest Cont</td>\n",
       "      <td>510.0</td>\n",
       "      <td>NaN</td>\n",
       "      <td>NaN</td>\n",
       "      <td>NaN</td>\n",
       "      <td>VAN NESS</td>\n",
       "      <td>15TH</td>\n",
       "      <td>(34.0454, -118.3157)</td>\n",
       "    </tr>\n",
       "  </tbody>\n",
       "</table>\n",
       "<p>2 rows × 26 columns</p>\n",
       "</div>"
      ],
      "text/plain": [
       "   DR Number Date Reported Date Occurred  Time Occurred  Area ID    Area Name  \\\n",
       "0    1208575    03/14/2013    03/11/2013           1800       12  77th Street   \n",
       "1  102005556    01/25/2010    01/22/2010           2300       20      Olympic   \n",
       "\n",
       "   Reporting District  Crime Code             Crime Code Description  \\\n",
       "0                1241         626  INTIMATE PARTNER - SIMPLE ASSAULT   \n",
       "1                2071         510                   VEHICLE - STOLEN   \n",
       "\n",
       "              MO Codes          ...           \\\n",
       "0  0416 0446 1243 2000          ...            \n",
       "1                  NaN          ...            \n",
       "\n",
       "                               Weapon Description Status Code  \\\n",
       "0  STRONG-ARM (HANDS, FIST, FEET OR BODILY FORCE)          AO   \n",
       "1                                             NaN          IC   \n",
       "\n",
       "  Status Description  Crime Code 1 Crime Code 2  Crime Code 3 Crime Code 4  \\\n",
       "0        Adult Other         626.0          NaN           NaN          NaN   \n",
       "1        Invest Cont         510.0          NaN           NaN          NaN   \n",
       "\n",
       "                                   Address Cross Street             Location   \n",
       "0  6300    BRYNHURST                    AV          NaN  (33.9829, -118.3338)  \n",
       "1                                 VAN NESS         15TH  (34.0454, -118.3157)  \n",
       "\n",
       "[2 rows x 26 columns]"
      ]
     },
     "execution_count": 3,
     "metadata": {},
     "output_type": "execute_result"
    }
   ],
   "source": [
    "data.head(2)"
   ]
  },
  {
   "cell_type": "code",
   "execution_count": null,
   "metadata": {},
   "outputs": [],
   "source": [
    "# Odstranime Typy kriminalit s malym poctom unikatnych zaznamov\n",
    "crime_values_counts = data['Crime Code Description'].value_counts()\n",
    "print(crime_values_counts.size)\n",
    "print(crime_values_counts.sum())\n",
    "mean = crime_values_counts.mean()\n",
    "crime_values_counts.head(2)\n",
    "separate_values = list(filter(lambda x: x, crime_values_counts.gt(crime_values_counts.mean())))\n",
    "separate_crimes = crime_values_counts[:len(separate_values)]\n",
    "# count of separated crime values\n",
    "print(separate_crimes.sum())\n",
    "\n",
    "separate_crimes_types = separate_crimes.keys()\n",
    "print(separate_crimes_types)\n",
    "\n",
    "#delete data rows that have separated crime types\n",
    "data = data.loc[data['Crime Code Description'].isin(separate_crimes_types)]"
   ]
  },
  {
   "cell_type": "code",
   "execution_count": null,
   "metadata": {},
   "outputs": [],
   "source": [
    "columns_to_drop = ['Area ID', 'Premise Code', 'Reporting District', 'Crime Code', 'MO Codes', 'Weapon Used Code', 'Weapon Description', 'Status Code', 'Crime Code 2', 'Crime Code 3', 'Crime Code 4', 'Cross Street']\n",
    "df_coldrop = data.drop(columns_to_drop, axis=1)\n",
    "df_coldrop.head(2)"
   ]
  },
  {
   "cell_type": "code",
   "execution_count": null,
   "metadata": {},
   "outputs": [],
   "source": [
    "# pocet bez NaN\n",
    "# pandas pri slicingu robi iba VIEWS\n",
    "# preto treba vytvorit novy DF pomocou copy()\n",
    "df_victims_only = df_coldrop.dropna().copy()\n",
    "len(df_victims_only)"
   ]
  },
  {
   "cell_type": "code",
   "execution_count": null,
   "metadata": {},
   "outputs": [],
   "source": [
    "len(df_victims_only['Premise Description'].unique())\n",
    "# date occured - je to casvovy sled mozme usporiadat\n",
    "# podobne prace, sklearn, podobne ulohy, kaggle\n",
    "# bar plot - histogram = po dummy_variables, pozri, ktore sltpce maju malu pocetnost, vyhodit je\n",
    "# location - pozriet rozdiely, min, max, dev?"
   ]
  },
  {
   "cell_type": "code",
   "execution_count": null,
   "metadata": {},
   "outputs": [],
   "source": [
    "print(len(df_victims_only['Location '].unique()))\n",
    "# 58989 unikatnych GPS suradnic\n",
    "print(len(df_victims_only['Address'].unique()))\n",
    "# 68282 unikatnych Adries\n",
    "print(len(df_victims_only['Area Name'].unique()))\n",
    "# 21 unikatnych Area name"
   ]
  },
  {
   "cell_type": "code",
   "execution_count": null,
   "metadata": {},
   "outputs": [],
   "source": [
    "# def strip0(string):\n",
    "#     l = string.split(',').replace('')\n",
    "#     return (l[0], l[1])\n",
    "import re\n",
    "\n",
    "def coords_f(coord):\n",
    "    matchObj = re.match(r'\\((.*), (.*)\\)', coord)\n",
    "    return (matchObj.group(1), matchObj.group(2))\n",
    "coords_tuples = list(map(coords_f, df_victims_only['Location '].unique()))\n",
    "#coords_tuples\n",
    "# min(coords_tuples, key = lambda x: x[0])\n"
   ]
  },
  {
   "cell_type": "code",
   "execution_count": null,
   "metadata": {},
   "outputs": [],
   "source": [
    "df_victims_only['Time Occurred'].head(10)"
   ]
  },
  {
   "cell_type": "code",
   "execution_count": null,
   "metadata": {},
   "outputs": [],
   "source": [
    "# cas sme rozbinovali na kategoricke premenne podla intervalov:\n",
    "# (2100, 500> night\n",
    "# (500, 1200> morning\n",
    "# (1200, 1700> afternoon\n",
    "# (1700, 2100> evening\n",
    "df_victims_only['Time Occurred'] = pd.cut(df_victims_only['Time Occurred'], [0, 500, 1200, 1700, 2100, 2400], labels=['night', 'morning', 'afternoon', 'evening', 'night2']).replace('night2', 'night')"
   ]
  },
  {
   "cell_type": "code",
   "execution_count": null,
   "metadata": {},
   "outputs": [],
   "source": [
    "# Victim age z float do int\n",
    "a = df_victims_only[\"Victim Age\"].astype(int).copy()\n",
    "df_victims_only[\"Victim Age\"] = a"
   ]
  },
  {
   "cell_type": "code",
   "execution_count": null,
   "metadata": {},
   "outputs": [],
   "source": [
    "df_victims_only.head()"
   ]
  },
  {
   "cell_type": "code",
   "execution_count": null,
   "metadata": {},
   "outputs": [],
   "source": [
    "descent_without_whb = list(df_victims_only['Victim Descent'].unique())\n",
    "descent_without_whb = filter(lambda x: x != 'W', descent_without_whb)\n",
    "descent_without_whb = filter(lambda x: x != 'H', descent_without_whb)\n",
    "descent_without_whb = filter(lambda x: x != 'B', descent_without_whb)\n",
    "descent_without_whb = {x[0]:'O' for x in descent_without_whb }"
   ]
  },
  {
   "cell_type": "code",
   "execution_count": null,
   "metadata": {},
   "outputs": [],
   "source": [
    "# Spojime O povod s ostatnymi\n",
    "df_descent_merge = df_victims_only.copy()\n",
    "df_descent_merge['Victim Descent'] = df_victims_only['Victim Descent'].replace(descent_without_whb)\n",
    "df_descent_merge['Victim Descent'].unique()\n",
    "sns.countplot('Victim Descent', data=df_descent_merge).set_title('Obete podla povodu')\n"
   ]
  },
  {
   "cell_type": "code",
   "execution_count": null,
   "metadata": {},
   "outputs": [],
   "source": []
  },
  {
   "cell_type": "code",
   "execution_count": null,
   "metadata": {},
   "outputs": [],
   "source": [
    "features = df_descent_merge[['Area Name', 'Time Occurred', 'Crime Code Description', 'Victim Age', 'Victim Sex', 'Victim Descent', 'Premise Description']]"
   ]
  },
  {
   "cell_type": "code",
   "execution_count": null,
   "metadata": {},
   "outputs": [],
   "source": [
    "# One hot encoding pomocou pd.get_dummies\n",
    "# Zakodujeme vsetky kategoricke okrem zavislej premennej (a victim age)\n",
    "dependent_var = 'Crime Code Description'\n",
    "cols_to_encode = list(features.columns)\n",
    "cols_to_encode.remove(dependent_var)\n",
    "cols_to_encode.remove('Victim Age')\n",
    "\n",
    "one_hotted = pd.get_dummies(features, columns=cols_to_encode)"
   ]
  },
  {
   "cell_type": "code",
   "execution_count": null,
   "metadata": {},
   "outputs": [],
   "source": [
    "# Vytvorenie label a target\n",
    "targets = one_hotted[dependent_var]\n",
    "feature_cols = list(one_hotted.columns)\n",
    "#print(one_hotted.columns)\n",
    "feature_cols.remove(dependent_var)\n",
    "#print(feature_cols)\n",
    "features = one_hotted[feature_cols]"
   ]
  },
  {
   "cell_type": "code",
   "execution_count": null,
   "metadata": {},
   "outputs": [],
   "source": []
  },
  {
   "cell_type": "code",
   "execution_count": 48,
   "metadata": {},
   "outputs": [],
   "source": [
    "others_crimes =  ['STALKING',\n",
    " 'SODOMY/SEXUAL CONTACT B/W PENIS OF ONE PERS TO ANUS OTH 0007=02',\n",
    " 'TRESPASSING',\n",
    " 'COUNTERFEIT',\n",
    " 'VANDALISM - FELONY ($400 & OVER, ALL CHURCH VANDALISMS) 0114',\n",
    " 'VANDALISM - MISDEAMEANOR ($399 OR UNDER)',\n",
    " 'OTHER MISCELLANEOUS CRIME',\n",
    " 'INDECENT EXPOSURE',\n",
    " 'BOMB SCARE',\n",
    " 'EXTORTION',\n",
    " 'DISTURBING THE PEACE',\n",
    " 'CHILD ANNOYING (17YRS & UNDER)',\n",
    " 'BRANDISH WEAPON',\n",
    " 'SEXUAL PENTRATION WITH A FOREIGN OBJECT',\n",
    " 'VIOLATION OF COURT ORDER',\n",
    " 'LETTERS, LEWD',\n",
    " 'CRM AGNST CHLD (13 OR UNDER) (14-15 & SUSP 10 YRS OLDER)0060',\n",
    " 'FALSE IMPRISONMENT',\n",
    " 'ARSON',\n",
    " 'VIOLATION OF RESTRAINING ORDER',\n",
    " 'CRUELTY TO ANIMALS',\n",
    " 'LEWD CONDUCT',\n",
    " 'PROWLER',\n",
    " 'PIMPING',\n",
    " 'RESISTING ARREST',\n",
    " 'PEEPING TOM',\n",
    " 'SEX, UNLAWFUL',\n",
    " 'RECKLESS DRIVING',\n",
    " 'ORAL COPULATION',\n",
    " 'THREATENING PHONE CALLS/LETTERS',\n",
    " 'UNAUTHORIZED COMPUTER ACCESS',\n",
    " 'DISCHARGE FIREARMS/SHOTS FIRED',\n",
    " 'CHILD NEGLECT (SEE 300 W.I.C.)',\n",
    " 'CHILD STEALING',\n",
    " 'CREDIT CARDS, FRAUD USE ($950.01 & OVER)',\n",
    " 'BUNCO, ATTEMPT',\n",
    " 'BRIBERY',\n",
    " 'CREDIT CARDS, FRAUD USE ($950 & UNDER',\n",
    " 'WEAPONS POSSESSION/BOMBING',\n",
    " 'ASSAULT WITH DEADLY WEAPON ON POLICE OFFICER',\n",
    " 'DRIVING WITHOUT OWNER CONSENT (DWOC)',\n",
    " 'ILLEGAL DUMPING',\n",
    " 'DOCUMENT WORTHLESS ($200.01 & OVER)',\n",
    " 'FAILURE TO YIELD',\n",
    " 'VIOLATION OF TEMPORARY RESTRAINING ORDER',\n",
    " 'FALSE POLICE REPORT',\n",
    " 'ABORTION/ILLEGAL',\n",
    " 'CONTRIBUTING',\n",
    " 'DRUNK ROLL',\n",
    " 'DISRUPT SCHOOL',\n",
    " 'INCITING A RIOT',\n",
    " 'FAILURE TO DISPERSE',\n",
    " 'PANDERING',\n",
    " 'TILL TAP - PETTY ($950 & UNDER)',\n",
    " 'REPLICA FIREARMS(SALE,DISPLAY,MANUFACTURE OR DISTRIBUTE)0132',\n",
    " 'CHILD ABANDONMENT',\n",
    " 'TELEPHONE PROPERTY - DAMAGE',\n",
    " 'CONTEMPT OF COURT',\n",
    " 'CONSPIRACY',\n",
    " 'SHOTS FIRED AT MOVING VEHICLE, TRAIN OR AIRCRAFT',\n",
    " 'BIGAMY',\n",
    " 'DRUNK ROLL - ATTEMPT',\n",
    " 'DOCUMENT WORTHLESS ($200 & UNDER)',\n",
    " 'INCEST (SEXUAL ACTS BETWEEN BLOOD RELATIVES)',\n",
    " 'BLOCKING DOOR INDUCTION CENTER',\n",
    " 'DRUGS, TO A MINOR',\n",
    " 'KIDNAPPING - GRAND ATTEMPT',\n",
    " 'TRAIN WRECKING']"
   ]
  },
  {
   "cell_type": "code",
   "execution_count": 49,
   "metadata": {},
   "outputs": [],
   "source": [
    "assault_crimes = ['INTIMATE PARTNER - SIMPLE ASSAULT',\n",
    " 'CRIMINAL HOMICIDE',\n",
    " 'BATTERY - SIMPLE ASSAULT',\n",
    " 'ASSAULT WITH DEADLY WEAPON, AGGRAVATED ASSAULT',\n",
    " 'THROWING OBJECT AT MOVING VEHICLE',\n",
    " 'CRIMINAL THREATS - NO WEAPON DISPLAYED',\n",
    " 'BATTERY WITH SEXUAL CONTACT',\n",
    " 'CHILD ABUSE (PHYSICAL) - SIMPLE ASSAULT',\n",
    " 'OTHER ASSAULT',\n",
    " 'RAPE, FORCIBLE',\n",
    " 'INTIMATE PARTNER - AGGRAVATED ASSAULT',\n",
    " 'SHOTS FIRED AT INHABITED DWELLING',\n",
    " 'BATTERY POLICE (SIMPLE)',\n",
    " 'RAPE, ATTEMPTED',\n",
    " 'KIDNAPPING',\n",
    " 'BATTERY ON A FIREFIGHTER',\n",
    " 'CHILD ABUSE (PHYSICAL) - AGGRAVATED ASSAULT',\n",
    " 'BEASTIALITY, CRIME AGAINST NATURE SEXUAL ASSLT WITH ANIM0065',\n",
    " 'LYNCHING - ATTEMPTED',\n",
    " 'LYNCHING',\n",
    " 'MANSLAUGHTER, NEGLIGENT',\n",
    "]"
   ]
  },
  {
   "cell_type": "code",
   "execution_count": 50,
   "metadata": {},
   "outputs": [],
   "source": [
    "theft_crimes = [\n",
    " 'SHOPLIFTING - PETTY THEFT ($950 & UNDER)',\n",
    " 'EMBEZZLEMENT, GRAND THEFT ($950.01 & OVER)',\n",
    " 'THEFT PLAIN - PETTY ($950 & UNDER)',\n",
    " 'EMBEZZLEMENT, PETTY THEFT ($950 & UNDER)',\n",
    " 'DOCUMENT FORGERY / STOLEN FELONY',\n",
    " 'BIKE - STOLEN',\n",
    " 'ROBBERY',\n",
    " 'ATTEMPTED ROBBERY',\n",
    " 'THEFT-GRAND ($950.01 & OVER)EXCPT,GUNS,FOWL,LIVESTK,PROD0036',\n",
    " 'DEFRAUDING INNKEEPER/THEFT OF SERVICES, $400 & UNDER',\n",
    " 'BURGLARY FROM VEHICLE',\n",
    " 'BURGLARY',\n",
    " 'SHOPLIFTING-GRAND THEFT ($950.01 & OVER)',\n",
    " 'THEFT, PERSON',\n",
    " 'THEFT PLAIN - ATTEMPT',\n",
    " 'THEFT FROM MOTOR VEHICLE - GRAND ($400 AND OVER)',\n",
    " 'THEFT OF IDENTITY',\n",
    " 'BUNCO, GRAND THEFT',\n",
    " 'PURSE SNATCHING',\n",
    " 'BURGLARY FROM VEHICLE, ATTEMPTED',\n",
    " 'THEFT FROM MOTOR VEHICLE - PETTY ($950 & UNDER)',\n",
    " 'BURGLARY, ATTEMPTED',\n",
    " 'BUNCO, PETTY THEFT',\n",
    " 'BIKE - ATTEMPTED STOLEN',\n",
    " 'PICKPOCKET',\n",
    " 'THEFT FROM PERSON - ATTEMPT',\n",
    " 'PICKPOCKET, ATTEMPT',\n",
    " 'PURSE SNATCHING - ATTEMPT',\n",
    " 'THEFT FROM MOTOR VEHICLE - ATTEMPT',\n",
    " 'SHOPLIFTING - ATTEMPT',\n",
    " 'DISHONEST EMPLOYEE - PETTY THEFT',\n",
    " 'DISHONEST EMPLOYEE - GRAND THEFT',\n",
    " 'DEFRAUDING INNKEEPER/THEFT OF SERVICES, OVER $400',\n",
    " 'THEFT, COIN MACHINE - PETTY ($950 & UNDER)',\n",
    " 'GRAND THEFT / INSURANCE FRAUD',\n",
    " 'GRAND THEFT / AUTO REPAIR',\n",
    " 'PETTY THEFT - AUTO REPAIR',\n",
    " 'TILL TAP - GRAND THEFT ($950.01 & OVER)',\n",
    " 'THEFT, COIN MACHINE - GRAND ($950.01 & OVER)',\n",
    " 'BOAT - STOLEN',\n",
    " 'THEFT, COIN MACHINE - ATTEMPT',\n",
    " 'DISHONEST EMPLOYEE ATTEMPTED THEFT',\n",
    "\n",
    "]"
   ]
  },
  {
   "cell_type": "code",
   "execution_count": 51,
   "metadata": {},
   "outputs": [],
   "source": [
    "vehicle_theft_crimes = [\n",
    " 'VEHICLE - STOLEN',\n",
    " 'VEHICLE - ATTEMPT STOLEN',\n",
    "]"
   ]
  },
  {
   "cell_type": "code",
   "execution_count": 52,
   "metadata": {},
   "outputs": [],
   "source": [
    "crimes_classification = {\n",
    "    'vehicle_theft': vehicle_theft_crimes,\n",
    "    'theft': theft_crimes,\n",
    "    'assault': assault_crimes,\n",
    "    'other': others_crimes\n",
    "}"
   ]
  },
  {
   "cell_type": "code",
   "execution_count": 53,
   "metadata": {},
   "outputs": [],
   "source": [
    "skuska123 = targets.copy()\n"
   ]
  },
  {
   "cell_type": "code",
   "execution_count": 54,
   "metadata": {},
   "outputs": [],
   "source": [
    "skuska3 = skuska123.replace(crimes_classification.get('vehicle_theft'), 'vehicle_theft') \\\n",
    "    .replace(crimes_classification.get('theft'), 'theft') \\\n",
    "    .replace(crimes_classification.get('assault'), 'assault') \\\n",
    "    .replace(crimes_classification.get('other'), 'other')"
   ]
  },
  {
   "cell_type": "code",
   "execution_count": 58,
   "metadata": {},
   "outputs": [
    {
     "data": {
      "text/plain": [
       "0     assault\n",
       "4       other\n",
       "5     assault\n",
       "9       theft\n",
       "12      theft\n",
       "Name: Crime Code Description, dtype: object"
      ]
     },
     "execution_count": 58,
     "metadata": {},
     "output_type": "execute_result"
    }
   ],
   "source": [
    "skuska3.head()"
   ]
  },
  {
   "cell_type": "code",
   "execution_count": 61,
   "metadata": {},
   "outputs": [],
   "source": [
    "skuska3.value_counts()\n",
    "targets = skuska3"
   ]
  },
  {
   "cell_type": "code",
   "execution_count": 62,
   "metadata": {},
   "outputs": [],
   "source": [
    "from sklearn.model_selection import train_test_split\n",
    "\n",
    "# Rozdelime dataset na 3:1\n",
    "# Random_state nastavime na seed random hodnotu pre zachovanie determinickosti\n",
    "X_train, X_test, y_train, y_test = train_test_split(features, targets, test_size=0.25, random_state=42)\n",
    "y_test.head(2)"
   ]
  },
  {
   "cell_type": "code",
   "execution_count": null,
   "metadata": {},
   "outputs": [],
   "source": [
    "from sklearn.externals import joblib\n",
    "# perzistujeme train a test data\n",
    "# ktore su ocistene\n",
    "joblib.dump(X_train, 'tmp/X_train.pkl')\n",
    "joblib.dump(X_test, 'tmp/X_test.pkl')\n",
    "\n",
    "joblib.dump(y_train, 'tmp/y_train.pkl')\n",
    "joblib.dump(y_test, 'tmp/y_test.pkl')"
   ]
  },
  {
   "cell_type": "code",
   "execution_count": null,
   "metadata": {},
   "outputs": [],
   "source": [
    "X_train.size"
   ]
  },
  {
   "cell_type": "code",
   "execution_count": null,
   "metadata": {},
   "outputs": [],
   "source": [
    "y_train.size"
   ]
  },
  {
   "cell_type": "code",
   "execution_count": null,
   "metadata": {},
   "outputs": [],
   "source": []
  },
  {
   "cell_type": "code",
   "execution_count": null,
   "metadata": {},
   "outputs": [],
   "source": []
  },
  {
   "cell_type": "code",
   "execution_count": null,
   "metadata": {},
   "outputs": [],
   "source": []
  },
  {
   "cell_type": "code",
   "execution_count": null,
   "metadata": {},
   "outputs": [],
   "source": []
  },
  {
   "cell_type": "code",
   "execution_count": null,
   "metadata": {},
   "outputs": [],
   "source": []
  },
  {
   "cell_type": "code",
   "execution_count": null,
   "metadata": {},
   "outputs": [],
   "source": []
  },
  {
   "cell_type": "code",
   "execution_count": null,
   "metadata": {},
   "outputs": [],
   "source": []
  },
  {
   "cell_type": "code",
   "execution_count": null,
   "metadata": {},
   "outputs": [],
   "source": []
  },
  {
   "cell_type": "code",
   "execution_count": null,
   "metadata": {},
   "outputs": [],
   "source": []
  },
  {
   "cell_type": "code",
   "execution_count": null,
   "metadata": {},
   "outputs": [],
   "source": [
    "# LEGACY KOD- PREMIGROVAT DO SVM.IPYNB"
   ]
  },
  {
   "cell_type": "code",
   "execution_count": null,
   "metadata": {},
   "outputs": [],
   "source": [
    "from sklearn import svm\n",
    "\n",
    "clf = svm.SVC()\n",
    "clf.fit(X_train, y_train) "
   ]
  },
  {
   "cell_type": "code",
   "execution_count": null,
   "metadata": {},
   "outputs": [],
   "source": [
    "from sklearn.model_selection import cross_val_score\n",
    "scores = cross_val_score(clf, featurs, labels, cv=5)"
   ]
  },
  {
   "cell_type": "code",
   "execution_count": null,
   "metadata": {},
   "outputs": [],
   "source": [
    "print(\"Accuracy: %0.2f (+/- %0.2f)\" % (scores.mean(), scores.std() * 2))"
   ]
  },
  {
   "cell_type": "code",
   "execution_count": null,
   "metadata": {},
   "outputs": [],
   "source": [
    "from sklearn.decomposition import PCA\n",
    "pca = PCA(n_components=200)\n",
    "pca.fit(featurs)\n",
    "X_pca = pca.transform(featurs)\n",
    "print(\"original shape:   \", featurs.shape)\n",
    "print(\"transformed shape:\", X_pca.shape)\n",
    "X_pca"
   ]
  },
  {
   "cell_type": "code",
   "execution_count": null,
   "metadata": {},
   "outputs": [],
   "source": [
    "# https://jakevdp.github.io/PythonDataScienceHandbook/05.09-principal-component-analysis.html\n",
    "\n",
    "plt.plot(np.cumsum(pca.explained_variance_ratio_))\n",
    "plt.xlabel('Počet komponentov')\n",
    "plt.ylabel('Kumulatívne vysvetlená variancia');\n",
    "\n"
   ]
  },
  {
   "cell_type": "code",
   "execution_count": null,
   "metadata": {},
   "outputs": [],
   "source": [
    "from sklearn.svm import SVC\n",
    "from sklearn.decomposition import PCA\n",
    "from sklearn.pipeline import make_pipeline\n",
    "\n",
    "pca = PCA(n_components=100, svd_solver='randomized')\n",
    "svc = SVC(class_weight='balanced')\n",
    "model = make_pipeline(pca, svc)"
   ]
  },
  {
   "cell_type": "code",
   "execution_count": null,
   "metadata": {},
   "outputs": [],
   "source": [
    "from sklearn.grid_search import GridSearchCV\n",
    "param_grid = {'svc__C': [1, 5, 10, 50],\n",
    "              'svc__gamma': [0.0001, 0.0005, 0.001, 0.005]}\n",
    "grid = GridSearchCV(model, param_grid)\n",
    "\n",
    "%time grid.fit(X_train, y_train)\n",
    "print(grid.best_params_)"
   ]
  },
  {
   "cell_type": "code",
   "execution_count": null,
   "metadata": {},
   "outputs": [],
   "source": [
    "scores2 = cross_val_score(model, featurs, labels, cv=2)"
   ]
  },
  {
   "cell_type": "code",
   "execution_count": null,
   "metadata": {},
   "outputs": [],
   "source": [
    "print(\"Accuracy: %0.2f (+/- %0.2f)\" % (scores2.mean(), scores2.std() * 2))"
   ]
  },
  {
   "cell_type": "code",
   "execution_count": null,
   "metadata": {},
   "outputs": [],
   "source": []
  }
 ],
 "metadata": {
  "kernelspec": {
   "display_name": "Python 3",
   "language": "python",
   "name": "python3"
  },
  "language_info": {
   "codemirror_mode": {
    "name": "ipython",
    "version": 3
   },
   "file_extension": ".py",
   "mimetype": "text/x-python",
   "name": "python",
   "nbconvert_exporter": "python",
   "pygments_lexer": "ipython3",
   "version": "3.6.4"
  }
 },
 "nbformat": 4,
 "nbformat_minor": 2
}
