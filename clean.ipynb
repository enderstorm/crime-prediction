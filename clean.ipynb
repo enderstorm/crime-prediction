{
 "cells": [
  {
   "cell_type": "markdown",
   "metadata": {},
   "source": [
    "# Opis dát a preprocessing\n",
    "\n",
    "Oficiálny opis a zdroj datasetu: https://data.lacity.org/A-Safe-City/Crime-Data-from-2010-to-Present/y8tr-7khq\n",
    "\n",
    "### Time Occurred\n",
    "\n",
    "> In 24 hour military time.\n",
    "\n",
    "Teda v tvare *hhmm*. Tento atribút sme transformovali diskretizáciou na časové vedrá vyššieho konceptu nasledovne:\n",
    "\n",
    "| Vedro         | Interval      |\n",
    "| ------------- |:-------------:|\n",
    "| night         | <2100, 500)   |\n",
    "| morning       | <500, 1200)   |\n",
    "| afternoon     | <1200, 1700)  |\n",
    "| evening       | <1700, 2100)  |\n",
    "\n",
    "\n",
    "### Crime Code\n",
    "\n",
    "> Indicates the crime committed. \n",
    "> Crime Code 1 is the primary and most serious one. \n",
    "> Crime Code 2, 3, and 4 are respectively less serious offenses.\n",
    "> Lower crime class numbers are more serious.\n",
    "\n",
    "Crime code je rovnaky ako Crime code 1\n",
    "\n",
    "Crime code 2-4 nie je vsade vyplneny, preto ho dropujeme\n",
    "\n",
    "   => Preto sa zameriame na serious offenses, teda Crime Code\n",
    "   \n",
    "### Zone Id\n",
    "\n",
    "> The LAPD has 21 Community Police Stations referred to as Geographic Areas within the department. These Geographic Areas are sequentially numbered from 1-21.\n",
    "\n",
    "Zone ID su geograficke zony dvadsiatychjednych Community Police Stations\n",
    "\n",
    "### Premise Code/Description\n",
    "\n",
    "> The type of structure, vehicle, or location where the crime took place.\n",
    "\n",
    "### Victim Sex\n",
    "\n",
    "> F - Female M - Male X - Unknown\n",
    "\n",
    "### MO Codes\n",
    "\n",
    "> Modus Operandi: Activities associated with the suspect in commission of the crime. See attached PDF for list of MO Codes in numerical order. \n",
    "\n",
    "> https://data.lacity.org/api/views/y8tr-7khq/files/3a967fbd-f210-4857-bc52-60230efe256c?download=true&filename=MO%20CODES%20(numerical%20order).pdf\n",
    "\n",
    "### Descent Code: \n",
    "\n",
    "> - A - Other Asian \n",
    "- B - Black \n",
    "- C - Chinese \n",
    "- D - Cambodian\n",
    "- F - Filipino\n",
    "- G - Guamanian\n",
    "- H - Hispanic/Latin/Mexican\n",
    "- I - American Indian/Alaskan Native\n",
    "- J - Japanese\n",
    "- K - Korean\n",
    "- L - Laotian\n",
    "- O - Other\n",
    "- P - PacificIslander\n",
    "- S - Samoan\n",
    "- U - Hawaiian\n",
    "- V - Vietnamese\n",
    "- W - White\n",
    "- X - Unknown\n",
    "- Z - Asian Indian\n",
    "\n",
    "### Location\n",
    "\n",
    "> The location where the crime incident occurred.\n",
    "> Actual address is omitted for confidentiality. \n",
    "> XY coordinates reflect the nearest 100 block.\n",
    "\n",
    "Location je kategorický atribút v tvare *(x, y)*.\n",
    "\n",
    "### Address a Cross Street\n",
    "\n",
    ">Address fields are only provided to the nearest hundred block in order to maintain privacy.\n",
    "\n",
    "> Cross Street of rounded Address.\n",
    "\n",
    "### Weapon Description/Weapon Used Code\n",
    "\n",
    "> The type of weapon used in the crime. \n",
    "\n",
    "Tento atribút môžeme teoreticky použiť ako vlastnosť, ktorá hovorí o tom, či pri čine bola použitá zbraň,\n",
    "alebo nie. Respektíve, môže hovoriť o tom, či bol čin násilný, alebo nie.\n",
    "\n",
    "\n",
    "### Good info\n",
    "\n",
    "- http://scikit-learn.org/stable/modules/generated/sklearn.preprocessing.OneHotEncoder.html#sklearn.preprocessing.OneHotEncoder\n",
    "- http://scikit-learn.org/stable/tutorial/statistical_inference/supervised_learning.html#support-vector-machines-svms\n",
    "- http://scikit-learn.org/stable/tutorial/statistical_inference/supervised_learning.html#nearest-neighbor-and-the-curse-of-dimensionality\n",
    "- https://medium.com/@agarwalvibhor84/getting-started-with-machine-learning-using-sklearn-python-7d165618eddf\n",
    "- http://efavdb.com/predicting-san-francisco-crimes/\n",
    "- https://www.kaggle.com/jsmwoolf/los-angeles-crime-analysis\n"
   ]
  },
  {
   "cell_type": "code",
   "execution_count": 1,
   "metadata": {},
   "outputs": [],
   "source": [
    "import numpy as np\n",
    "import pandas as pd\n",
    "import matplotlib.pyplot as plt\n",
    "import seaborn as sns\n",
    "%matplotlib inline"
   ]
  },
  {
   "cell_type": "code",
   "execution_count": 2,
   "metadata": {},
   "outputs": [],
   "source": [
    "data = pd.read_csv('data//Crime_Data_2010_2017.csv')"
   ]
  },
  {
   "cell_type": "code",
   "execution_count": 3,
   "metadata": {},
   "outputs": [
    {
     "data": {
      "text/html": [
       "<div>\n",
       "<style>\n",
       "    .dataframe thead tr:only-child th {\n",
       "        text-align: right;\n",
       "    }\n",
       "\n",
       "    .dataframe thead th {\n",
       "        text-align: left;\n",
       "    }\n",
       "\n",
       "    .dataframe tbody tr th {\n",
       "        vertical-align: top;\n",
       "    }\n",
       "</style>\n",
       "<table border=\"1\" class=\"dataframe\">\n",
       "  <thead>\n",
       "    <tr style=\"text-align: right;\">\n",
       "      <th></th>\n",
       "      <th>DR Number</th>\n",
       "      <th>Date Reported</th>\n",
       "      <th>Date Occurred</th>\n",
       "      <th>Time Occurred</th>\n",
       "      <th>Area ID</th>\n",
       "      <th>Area Name</th>\n",
       "      <th>Reporting District</th>\n",
       "      <th>Crime Code</th>\n",
       "      <th>Crime Code Description</th>\n",
       "      <th>MO Codes</th>\n",
       "      <th>...</th>\n",
       "      <th>Weapon Description</th>\n",
       "      <th>Status Code</th>\n",
       "      <th>Status Description</th>\n",
       "      <th>Crime Code 1</th>\n",
       "      <th>Crime Code 2</th>\n",
       "      <th>Crime Code 3</th>\n",
       "      <th>Crime Code 4</th>\n",
       "      <th>Address</th>\n",
       "      <th>Cross Street</th>\n",
       "      <th>Location</th>\n",
       "    </tr>\n",
       "  </thead>\n",
       "  <tbody>\n",
       "    <tr>\n",
       "      <th>0</th>\n",
       "      <td>1208575</td>\n",
       "      <td>03/14/2013</td>\n",
       "      <td>03/11/2013</td>\n",
       "      <td>1800</td>\n",
       "      <td>12</td>\n",
       "      <td>77th Street</td>\n",
       "      <td>1241</td>\n",
       "      <td>626</td>\n",
       "      <td>INTIMATE PARTNER - SIMPLE ASSAULT</td>\n",
       "      <td>0416 0446 1243 2000</td>\n",
       "      <td>...</td>\n",
       "      <td>STRONG-ARM (HANDS, FIST, FEET OR BODILY FORCE)</td>\n",
       "      <td>AO</td>\n",
       "      <td>Adult Other</td>\n",
       "      <td>626.0</td>\n",
       "      <td>NaN</td>\n",
       "      <td>NaN</td>\n",
       "      <td>NaN</td>\n",
       "      <td>6300    BRYNHURST                    AV</td>\n",
       "      <td>NaN</td>\n",
       "      <td>(33.9829, -118.3338)</td>\n",
       "    </tr>\n",
       "    <tr>\n",
       "      <th>1</th>\n",
       "      <td>102005556</td>\n",
       "      <td>01/25/2010</td>\n",
       "      <td>01/22/2010</td>\n",
       "      <td>2300</td>\n",
       "      <td>20</td>\n",
       "      <td>Olympic</td>\n",
       "      <td>2071</td>\n",
       "      <td>510</td>\n",
       "      <td>VEHICLE - STOLEN</td>\n",
       "      <td>NaN</td>\n",
       "      <td>...</td>\n",
       "      <td>NaN</td>\n",
       "      <td>IC</td>\n",
       "      <td>Invest Cont</td>\n",
       "      <td>510.0</td>\n",
       "      <td>NaN</td>\n",
       "      <td>NaN</td>\n",
       "      <td>NaN</td>\n",
       "      <td>VAN NESS</td>\n",
       "      <td>15TH</td>\n",
       "      <td>(34.0454, -118.3157)</td>\n",
       "    </tr>\n",
       "  </tbody>\n",
       "</table>\n",
       "<p>2 rows × 26 columns</p>\n",
       "</div>"
      ],
      "text/plain": [
       "   DR Number Date Reported Date Occurred  Time Occurred  Area ID    Area Name  \\\n",
       "0    1208575    03/14/2013    03/11/2013           1800       12  77th Street   \n",
       "1  102005556    01/25/2010    01/22/2010           2300       20      Olympic   \n",
       "\n",
       "   Reporting District  Crime Code             Crime Code Description  \\\n",
       "0                1241         626  INTIMATE PARTNER - SIMPLE ASSAULT   \n",
       "1                2071         510                   VEHICLE - STOLEN   \n",
       "\n",
       "              MO Codes          ...           \\\n",
       "0  0416 0446 1243 2000          ...            \n",
       "1                  NaN          ...            \n",
       "\n",
       "                               Weapon Description Status Code  \\\n",
       "0  STRONG-ARM (HANDS, FIST, FEET OR BODILY FORCE)          AO   \n",
       "1                                             NaN          IC   \n",
       "\n",
       "  Status Description  Crime Code 1 Crime Code 2  Crime Code 3 Crime Code 4  \\\n",
       "0        Adult Other         626.0          NaN           NaN          NaN   \n",
       "1        Invest Cont         510.0          NaN           NaN          NaN   \n",
       "\n",
       "                                   Address Cross Street             Location   \n",
       "0  6300    BRYNHURST                    AV          NaN  (33.9829, -118.3338)  \n",
       "1                                 VAN NESS         15TH  (34.0454, -118.3157)  \n",
       "\n",
       "[2 rows x 26 columns]"
      ]
     },
     "execution_count": 3,
     "metadata": {},
     "output_type": "execute_result"
    }
   ],
   "source": [
    "data.head(2)"
   ]
  },
  {
   "cell_type": "code",
   "execution_count": null,
   "metadata": {},
   "outputs": [],
   "source": []
  },
  {
   "cell_type": "code",
   "execution_count": 4,
   "metadata": {},
   "outputs": [
    {
     "data": {
      "text/html": [
       "<div>\n",
       "<style>\n",
       "    .dataframe thead tr:only-child th {\n",
       "        text-align: right;\n",
       "    }\n",
       "\n",
       "    .dataframe thead th {\n",
       "        text-align: left;\n",
       "    }\n",
       "\n",
       "    .dataframe tbody tr th {\n",
       "        vertical-align: top;\n",
       "    }\n",
       "</style>\n",
       "<table border=\"1\" class=\"dataframe\">\n",
       "  <thead>\n",
       "    <tr style=\"text-align: right;\">\n",
       "      <th></th>\n",
       "      <th>DR Number</th>\n",
       "      <th>Date Reported</th>\n",
       "      <th>Date Occurred</th>\n",
       "      <th>Time Occurred</th>\n",
       "      <th>Area Name</th>\n",
       "      <th>Crime Code Description</th>\n",
       "      <th>Victim Age</th>\n",
       "      <th>Victim Sex</th>\n",
       "      <th>Victim Descent</th>\n",
       "      <th>Premise Description</th>\n",
       "      <th>Status Description</th>\n",
       "      <th>Crime Code 1</th>\n",
       "      <th>Address</th>\n",
       "      <th>Location</th>\n",
       "    </tr>\n",
       "  </thead>\n",
       "  <tbody>\n",
       "    <tr>\n",
       "      <th>0</th>\n",
       "      <td>1208575</td>\n",
       "      <td>03/14/2013</td>\n",
       "      <td>03/11/2013</td>\n",
       "      <td>1800</td>\n",
       "      <td>77th Street</td>\n",
       "      <td>INTIMATE PARTNER - SIMPLE ASSAULT</td>\n",
       "      <td>30.0</td>\n",
       "      <td>F</td>\n",
       "      <td>W</td>\n",
       "      <td>MULTI-UNIT DWELLING (APARTMENT, DUPLEX, ETC)</td>\n",
       "      <td>Adult Other</td>\n",
       "      <td>626.0</td>\n",
       "      <td>6300    BRYNHURST                    AV</td>\n",
       "      <td>(33.9829, -118.3338)</td>\n",
       "    </tr>\n",
       "    <tr>\n",
       "      <th>1</th>\n",
       "      <td>102005556</td>\n",
       "      <td>01/25/2010</td>\n",
       "      <td>01/22/2010</td>\n",
       "      <td>2300</td>\n",
       "      <td>Olympic</td>\n",
       "      <td>VEHICLE - STOLEN</td>\n",
       "      <td>NaN</td>\n",
       "      <td>NaN</td>\n",
       "      <td>NaN</td>\n",
       "      <td>STREET</td>\n",
       "      <td>Invest Cont</td>\n",
       "      <td>510.0</td>\n",
       "      <td>VAN NESS</td>\n",
       "      <td>(34.0454, -118.3157)</td>\n",
       "    </tr>\n",
       "  </tbody>\n",
       "</table>\n",
       "</div>"
      ],
      "text/plain": [
       "   DR Number Date Reported Date Occurred  Time Occurred    Area Name  \\\n",
       "0    1208575    03/14/2013    03/11/2013           1800  77th Street   \n",
       "1  102005556    01/25/2010    01/22/2010           2300      Olympic   \n",
       "\n",
       "              Crime Code Description  Victim Age Victim Sex Victim Descent  \\\n",
       "0  INTIMATE PARTNER - SIMPLE ASSAULT        30.0          F              W   \n",
       "1                   VEHICLE - STOLEN         NaN        NaN            NaN   \n",
       "\n",
       "                            Premise Description Status Description  \\\n",
       "0  MULTI-UNIT DWELLING (APARTMENT, DUPLEX, ETC)        Adult Other   \n",
       "1                                        STREET        Invest Cont   \n",
       "\n",
       "   Crime Code 1                                  Address             Location   \n",
       "0         626.0  6300    BRYNHURST                    AV  (33.9829, -118.3338)  \n",
       "1         510.0                                 VAN NESS  (34.0454, -118.3157)  "
      ]
     },
     "execution_count": 4,
     "metadata": {},
     "output_type": "execute_result"
    }
   ],
   "source": [
    "columns_to_drop = ['Area ID', 'Premise Code', 'Reporting District', 'Crime Code', 'MO Codes', 'Weapon Used Code', 'Weapon Description', 'Status Code', 'Crime Code 2', 'Crime Code 3', 'Crime Code 4', 'Cross Street']\n",
    "df_coldrop = data.drop(columns_to_drop, axis=1)\n",
    "df_coldrop.head(2)"
   ]
  },
  {
   "cell_type": "code",
   "execution_count": 5,
   "metadata": {},
   "outputs": [
    {
     "data": {
      "text/plain": [
       "1327814"
      ]
     },
     "execution_count": 5,
     "metadata": {},
     "output_type": "execute_result"
    }
   ],
   "source": [
    "# pocet bez NaN\n",
    "# pandas pri slicingu robi iba VIEWS\n",
    "# preto treba vytvorit novy DF pomocou copy()\n",
    "df_victims_only = df_coldrop.dropna().copy()\n",
    "len(df_victims_only)"
   ]
  },
  {
   "cell_type": "code",
   "execution_count": 6,
   "metadata": {},
   "outputs": [
    {
     "data": {
      "text/plain": [
       "210"
      ]
     },
     "execution_count": 6,
     "metadata": {},
     "output_type": "execute_result"
    }
   ],
   "source": [
    "len(df_victims_only['Premise Description'].unique())\n",
    "# date occured - je to casvovy sled mozme usporiadat\n",
    "# podobne prace, sklearn, podobne ulohy, kaggle\n",
    "# bar plot - histogram = po dummy_variables, pozri, ktore sltpce maju malu pocetnost, vyhodit je\n",
    "# location - pozriet rozdiely, min, max, dev?"
   ]
  },
  {
   "cell_type": "code",
   "execution_count": 7,
   "metadata": {},
   "outputs": [
    {
     "data": {
      "text/plain": [
       "1584316"
      ]
     },
     "execution_count": 7,
     "metadata": {},
     "output_type": "execute_result"
    }
   ],
   "source": [
    "# pocet s NaN\n",
    "len(df_coldrop)\n"
   ]
  },
  {
   "cell_type": "code",
   "execution_count": null,
   "metadata": {},
   "outputs": [],
   "source": []
  },
  {
   "cell_type": "code",
   "execution_count": null,
   "metadata": {},
   "outputs": [],
   "source": []
  },
  {
   "cell_type": "code",
   "execution_count": 8,
   "metadata": {},
   "outputs": [
    {
     "name": "stdout",
     "output_type": "stream",
     "text": [
      "58989\n",
      "68282\n",
      "21\n"
     ]
    }
   ],
   "source": [
    "print(len(df_victims_only['Location '].unique()))\n",
    "# 58989 unikatnych GPS suradnic\n",
    "print(len(df_victims_only['Address'].unique()))\n",
    "# 68282 unikatnych Adries\n",
    "print(len(df_victims_only['Area Name'].unique()))\n",
    "# 21 unikatnych Area name"
   ]
  },
  {
   "cell_type": "code",
   "execution_count": 9,
   "metadata": {},
   "outputs": [],
   "source": [
    "# def strip0(string):\n",
    "#     l = string.split(',').replace('')\n",
    "#     return (l[0], l[1])\n",
    "import re\n",
    "\n",
    "def coords_f(coord):\n",
    "    matchObj = re.match(r'\\((.*), (.*)\\)', coord)\n",
    "    return (matchObj.group(1), matchObj.group(2))\n",
    "coords_tuples = list(map(coords_f, df_victims_only['Location '].unique()))\n",
    "#coords_tuples\n",
    "# min(coords_tuples, key = lambda x: x[0])\n"
   ]
  },
  {
   "cell_type": "code",
   "execution_count": 10,
   "metadata": {},
   "outputs": [],
   "source": [
    "#list(df_victims_only['Time Occurred'].unique()\n"
   ]
  },
  {
   "cell_type": "code",
   "execution_count": 11,
   "metadata": {},
   "outputs": [
    {
     "data": {
      "text/plain": [
       "0     1800\n",
       "4     2300\n",
       "5     1400\n",
       "9      800\n",
       "12    1200\n",
       "13    1200\n",
       "14    2030\n",
       "15     500\n",
       "16    1420\n",
       "17    1430\n",
       "Name: Time Occurred, dtype: int64"
      ]
     },
     "execution_count": 11,
     "metadata": {},
     "output_type": "execute_result"
    }
   ],
   "source": [
    "df_victims_only['Time Occurred'].head(10)"
   ]
  },
  {
   "cell_type": "code",
   "execution_count": 12,
   "metadata": {},
   "outputs": [
    {
     "data": {
      "text/plain": [
       "0       evening\n",
       "4         night\n",
       "5     afternoon\n",
       "9       morning\n",
       "12      morning\n",
       "Name: Time Occurred, dtype: category\n",
       "Categories (5, object): [night < morning < afternoon < evening < night2]"
      ]
     },
     "execution_count": 12,
     "metadata": {},
     "output_type": "execute_result"
    }
   ],
   "source": [
    "# cas sme rozbinovali na kategoricke premenne podla intervalov:\n",
    "# (2100, 500> night\n",
    "# (500, 1200> morning\n",
    "# (1200, 1700> afternoon\n",
    "# (1700, 2100> evening\n",
    "pd.cut(df_victims_only['Time Occurred'], [0, 500, 1200, 1700, 2100, 2400], labels=['night', 'morning', 'afternoon', 'evening', 'night2']).replace('night2', 'night').head()"
   ]
  },
  {
   "cell_type": "code",
   "execution_count": 13,
   "metadata": {},
   "outputs": [
    {
     "data": {
      "text/html": [
       "<div>\n",
       "<style>\n",
       "    .dataframe thead tr:only-child th {\n",
       "        text-align: right;\n",
       "    }\n",
       "\n",
       "    .dataframe thead th {\n",
       "        text-align: left;\n",
       "    }\n",
       "\n",
       "    .dataframe tbody tr th {\n",
       "        vertical-align: top;\n",
       "    }\n",
       "</style>\n",
       "<table border=\"1\" class=\"dataframe\">\n",
       "  <thead>\n",
       "    <tr style=\"text-align: right;\">\n",
       "      <th></th>\n",
       "      <th>DR Number</th>\n",
       "      <th>Date Reported</th>\n",
       "      <th>Date Occurred</th>\n",
       "      <th>Time Occurred</th>\n",
       "      <th>Victim Age</th>\n",
       "      <th>Status Description</th>\n",
       "      <th>Crime Code 1</th>\n",
       "      <th>Address</th>\n",
       "      <th>Location</th>\n",
       "      <th>Area Name_Central</th>\n",
       "      <th>...</th>\n",
       "      <th>Victim Descent_K</th>\n",
       "      <th>Victim Descent_L</th>\n",
       "      <th>Victim Descent_O</th>\n",
       "      <th>Victim Descent_P</th>\n",
       "      <th>Victim Descent_S</th>\n",
       "      <th>Victim Descent_U</th>\n",
       "      <th>Victim Descent_V</th>\n",
       "      <th>Victim Descent_W</th>\n",
       "      <th>Victim Descent_X</th>\n",
       "      <th>Victim Descent_Z</th>\n",
       "    </tr>\n",
       "  </thead>\n",
       "  <tbody>\n",
       "    <tr>\n",
       "      <th>0</th>\n",
       "      <td>1208575</td>\n",
       "      <td>03/14/2013</td>\n",
       "      <td>03/11/2013</td>\n",
       "      <td>1800</td>\n",
       "      <td>30.0</td>\n",
       "      <td>Adult Other</td>\n",
       "      <td>626.0</td>\n",
       "      <td>6300    BRYNHURST                    AV</td>\n",
       "      <td>(33.9829, -118.3338)</td>\n",
       "      <td>0</td>\n",
       "      <td>...</td>\n",
       "      <td>0</td>\n",
       "      <td>0</td>\n",
       "      <td>0</td>\n",
       "      <td>0</td>\n",
       "      <td>0</td>\n",
       "      <td>0</td>\n",
       "      <td>0</td>\n",
       "      <td>1</td>\n",
       "      <td>0</td>\n",
       "      <td>0</td>\n",
       "    </tr>\n",
       "    <tr>\n",
       "      <th>4</th>\n",
       "      <td>42104479</td>\n",
       "      <td>01/11/2014</td>\n",
       "      <td>01/04/2014</td>\n",
       "      <td>2300</td>\n",
       "      <td>84.0</td>\n",
       "      <td>Invest Cont</td>\n",
       "      <td>745.0</td>\n",
       "      <td>7200    CIRRUS                       WY</td>\n",
       "      <td>(34.2009, -118.6369)</td>\n",
       "      <td>0</td>\n",
       "      <td>...</td>\n",
       "      <td>0</td>\n",
       "      <td>0</td>\n",
       "      <td>0</td>\n",
       "      <td>0</td>\n",
       "      <td>0</td>\n",
       "      <td>0</td>\n",
       "      <td>0</td>\n",
       "      <td>1</td>\n",
       "      <td>0</td>\n",
       "      <td>0</td>\n",
       "    </tr>\n",
       "    <tr>\n",
       "      <th>5</th>\n",
       "      <td>120125367</td>\n",
       "      <td>01/08/2013</td>\n",
       "      <td>01/08/2013</td>\n",
       "      <td>1400</td>\n",
       "      <td>49.0</td>\n",
       "      <td>Adult Arrest</td>\n",
       "      <td>110.0</td>\n",
       "      <td>600 N  HILL                         ST</td>\n",
       "      <td>(34.0591, -118.2412)</td>\n",
       "      <td>1</td>\n",
       "      <td>...</td>\n",
       "      <td>0</td>\n",
       "      <td>0</td>\n",
       "      <td>0</td>\n",
       "      <td>0</td>\n",
       "      <td>0</td>\n",
       "      <td>0</td>\n",
       "      <td>0</td>\n",
       "      <td>1</td>\n",
       "      <td>0</td>\n",
       "      <td>0</td>\n",
       "    </tr>\n",
       "    <tr>\n",
       "      <th>9</th>\n",
       "      <td>120908292</td>\n",
       "      <td>03/29/2013</td>\n",
       "      <td>01/15/2013</td>\n",
       "      <td>800</td>\n",
       "      <td>27.0</td>\n",
       "      <td>Invest Cont</td>\n",
       "      <td>668.0</td>\n",
       "      <td>7200    SEPULVEDA                    BL</td>\n",
       "      <td>(34.2012, -118.4662)</td>\n",
       "      <td>0</td>\n",
       "      <td>...</td>\n",
       "      <td>0</td>\n",
       "      <td>0</td>\n",
       "      <td>1</td>\n",
       "      <td>0</td>\n",
       "      <td>0</td>\n",
       "      <td>0</td>\n",
       "      <td>0</td>\n",
       "      <td>0</td>\n",
       "      <td>0</td>\n",
       "      <td>0</td>\n",
       "    </tr>\n",
       "    <tr>\n",
       "      <th>12</th>\n",
       "      <td>121207315</td>\n",
       "      <td>02/22/2013</td>\n",
       "      <td>02/13/2013</td>\n",
       "      <td>1200</td>\n",
       "      <td>42.0</td>\n",
       "      <td>Invest Cont</td>\n",
       "      <td>440.0</td>\n",
       "      <td>82ND</td>\n",
       "      <td>(33.9651, -118.2783)</td>\n",
       "      <td>0</td>\n",
       "      <td>...</td>\n",
       "      <td>0</td>\n",
       "      <td>0</td>\n",
       "      <td>0</td>\n",
       "      <td>0</td>\n",
       "      <td>0</td>\n",
       "      <td>0</td>\n",
       "      <td>0</td>\n",
       "      <td>0</td>\n",
       "      <td>0</td>\n",
       "      <td>0</td>\n",
       "    </tr>\n",
       "  </tbody>\n",
       "</table>\n",
       "<p>5 rows × 393 columns</p>\n",
       "</div>"
      ],
      "text/plain": [
       "    DR Number Date Reported Date Occurred  Time Occurred  Victim Age  \\\n",
       "0     1208575    03/14/2013    03/11/2013           1800        30.0   \n",
       "4    42104479    01/11/2014    01/04/2014           2300        84.0   \n",
       "5   120125367    01/08/2013    01/08/2013           1400        49.0   \n",
       "9   120908292    03/29/2013    01/15/2013            800        27.0   \n",
       "12  121207315    02/22/2013    02/13/2013           1200        42.0   \n",
       "\n",
       "   Status Description  Crime Code 1                                  Address  \\\n",
       "0         Adult Other         626.0  6300    BRYNHURST                    AV   \n",
       "4         Invest Cont         745.0  7200    CIRRUS                       WY   \n",
       "5        Adult Arrest         110.0   600 N  HILL                         ST   \n",
       "9         Invest Cont         668.0  7200    SEPULVEDA                    BL   \n",
       "12        Invest Cont         440.0                                     82ND   \n",
       "\n",
       "               Location   Area Name_Central        ...         \\\n",
       "0   (33.9829, -118.3338)                  0        ...          \n",
       "4   (34.2009, -118.6369)                  0        ...          \n",
       "5   (34.0591, -118.2412)                  1        ...          \n",
       "9   (34.2012, -118.4662)                  0        ...          \n",
       "12  (33.9651, -118.2783)                  0        ...          \n",
       "\n",
       "    Victim Descent_K  Victim Descent_L  Victim Descent_O  Victim Descent_P  \\\n",
       "0                  0                 0                 0                 0   \n",
       "4                  0                 0                 0                 0   \n",
       "5                  0                 0                 0                 0   \n",
       "9                  0                 0                 1                 0   \n",
       "12                 0                 0                 0                 0   \n",
       "\n",
       "    Victim Descent_S  Victim Descent_U  Victim Descent_V  Victim Descent_W  \\\n",
       "0                  0                 0                 0                 1   \n",
       "4                  0                 0                 0                 1   \n",
       "5                  0                 0                 0                 1   \n",
       "9                  0                 0                 0                 0   \n",
       "12                 0                 0                 0                 0   \n",
       "\n",
       "    Victim Descent_X  Victim Descent_Z  \n",
       "0                  0                 0  \n",
       "4                  0                 0  \n",
       "5                  0                 0  \n",
       "9                  0                 0  \n",
       "12                 0                 0  \n",
       "\n",
       "[5 rows x 393 columns]"
      ]
     },
     "execution_count": 13,
     "metadata": {},
     "output_type": "execute_result"
    }
   ],
   "source": [
    "pd.get_dummies(df_victims_only, columns=['Area Name', 'Crime Code Description', 'Premise Description', 'Victim Sex', 'Victim Descent'], drop_first=True).head()"
   ]
  },
  {
   "cell_type": "code",
   "execution_count": 14,
   "metadata": {},
   "outputs": [],
   "source": [
    "# Victim age z float do int\n",
    "a = df_victims_only[\"Victim Age\"].astype(int).copy()\n",
    "df_victims_only[\"Victim Age\"] = a"
   ]
  },
  {
   "cell_type": "code",
   "execution_count": 15,
   "metadata": {},
   "outputs": [
    {
     "data": {
      "text/html": [
       "<div>\n",
       "<style>\n",
       "    .dataframe thead tr:only-child th {\n",
       "        text-align: right;\n",
       "    }\n",
       "\n",
       "    .dataframe thead th {\n",
       "        text-align: left;\n",
       "    }\n",
       "\n",
       "    .dataframe tbody tr th {\n",
       "        vertical-align: top;\n",
       "    }\n",
       "</style>\n",
       "<table border=\"1\" class=\"dataframe\">\n",
       "  <thead>\n",
       "    <tr style=\"text-align: right;\">\n",
       "      <th></th>\n",
       "      <th>DR Number</th>\n",
       "      <th>Date Reported</th>\n",
       "      <th>Date Occurred</th>\n",
       "      <th>Time Occurred</th>\n",
       "      <th>Area Name</th>\n",
       "      <th>Crime Code Description</th>\n",
       "      <th>Victim Age</th>\n",
       "      <th>Victim Sex</th>\n",
       "      <th>Victim Descent</th>\n",
       "      <th>Premise Description</th>\n",
       "      <th>Status Description</th>\n",
       "      <th>Crime Code 1</th>\n",
       "      <th>Address</th>\n",
       "      <th>Location</th>\n",
       "    </tr>\n",
       "  </thead>\n",
       "  <tbody>\n",
       "    <tr>\n",
       "      <th>0</th>\n",
       "      <td>1208575</td>\n",
       "      <td>03/14/2013</td>\n",
       "      <td>03/11/2013</td>\n",
       "      <td>1800</td>\n",
       "      <td>77th Street</td>\n",
       "      <td>INTIMATE PARTNER - SIMPLE ASSAULT</td>\n",
       "      <td>30</td>\n",
       "      <td>F</td>\n",
       "      <td>W</td>\n",
       "      <td>MULTI-UNIT DWELLING (APARTMENT, DUPLEX, ETC)</td>\n",
       "      <td>Adult Other</td>\n",
       "      <td>626.0</td>\n",
       "      <td>6300    BRYNHURST                    AV</td>\n",
       "      <td>(33.9829, -118.3338)</td>\n",
       "    </tr>\n",
       "    <tr>\n",
       "      <th>4</th>\n",
       "      <td>42104479</td>\n",
       "      <td>01/11/2014</td>\n",
       "      <td>01/04/2014</td>\n",
       "      <td>2300</td>\n",
       "      <td>Topanga</td>\n",
       "      <td>VANDALISM - MISDEAMEANOR ($399 OR UNDER)</td>\n",
       "      <td>84</td>\n",
       "      <td>M</td>\n",
       "      <td>W</td>\n",
       "      <td>SINGLE FAMILY DWELLING</td>\n",
       "      <td>Invest Cont</td>\n",
       "      <td>745.0</td>\n",
       "      <td>7200    CIRRUS                       WY</td>\n",
       "      <td>(34.2009, -118.6369)</td>\n",
       "    </tr>\n",
       "    <tr>\n",
       "      <th>5</th>\n",
       "      <td>120125367</td>\n",
       "      <td>01/08/2013</td>\n",
       "      <td>01/08/2013</td>\n",
       "      <td>1400</td>\n",
       "      <td>Central</td>\n",
       "      <td>CRIMINAL HOMICIDE</td>\n",
       "      <td>49</td>\n",
       "      <td>F</td>\n",
       "      <td>W</td>\n",
       "      <td>SINGLE FAMILY DWELLING</td>\n",
       "      <td>Adult Arrest</td>\n",
       "      <td>110.0</td>\n",
       "      <td>600 N  HILL                         ST</td>\n",
       "      <td>(34.0591, -118.2412)</td>\n",
       "    </tr>\n",
       "    <tr>\n",
       "      <th>9</th>\n",
       "      <td>120908292</td>\n",
       "      <td>03/29/2013</td>\n",
       "      <td>01/15/2013</td>\n",
       "      <td>800</td>\n",
       "      <td>Van Nuys</td>\n",
       "      <td>EMBEZZLEMENT, GRAND THEFT ($950.01 &amp; OVER)</td>\n",
       "      <td>27</td>\n",
       "      <td>F</td>\n",
       "      <td>O</td>\n",
       "      <td>OTHER BUSINESS</td>\n",
       "      <td>Invest Cont</td>\n",
       "      <td>668.0</td>\n",
       "      <td>7200    SEPULVEDA                    BL</td>\n",
       "      <td>(34.2012, -118.4662)</td>\n",
       "    </tr>\n",
       "    <tr>\n",
       "      <th>12</th>\n",
       "      <td>121207315</td>\n",
       "      <td>02/22/2013</td>\n",
       "      <td>02/13/2013</td>\n",
       "      <td>1200</td>\n",
       "      <td>77th Street</td>\n",
       "      <td>THEFT PLAIN - PETTY ($950 &amp; UNDER)</td>\n",
       "      <td>42</td>\n",
       "      <td>M</td>\n",
       "      <td>H</td>\n",
       "      <td>PARKING LOT</td>\n",
       "      <td>Invest Cont</td>\n",
       "      <td>440.0</td>\n",
       "      <td>82ND</td>\n",
       "      <td>(33.9651, -118.2783)</td>\n",
       "    </tr>\n",
       "  </tbody>\n",
       "</table>\n",
       "</div>"
      ],
      "text/plain": [
       "    DR Number Date Reported Date Occurred  Time Occurred    Area Name  \\\n",
       "0     1208575    03/14/2013    03/11/2013           1800  77th Street   \n",
       "4    42104479    01/11/2014    01/04/2014           2300      Topanga   \n",
       "5   120125367    01/08/2013    01/08/2013           1400      Central   \n",
       "9   120908292    03/29/2013    01/15/2013            800     Van Nuys   \n",
       "12  121207315    02/22/2013    02/13/2013           1200  77th Street   \n",
       "\n",
       "                        Crime Code Description  Victim Age Victim Sex  \\\n",
       "0            INTIMATE PARTNER - SIMPLE ASSAULT          30          F   \n",
       "4     VANDALISM - MISDEAMEANOR ($399 OR UNDER)          84          M   \n",
       "5                            CRIMINAL HOMICIDE          49          F   \n",
       "9   EMBEZZLEMENT, GRAND THEFT ($950.01 & OVER)          27          F   \n",
       "12          THEFT PLAIN - PETTY ($950 & UNDER)          42          M   \n",
       "\n",
       "   Victim Descent                           Premise Description  \\\n",
       "0               W  MULTI-UNIT DWELLING (APARTMENT, DUPLEX, ETC)   \n",
       "4               W                        SINGLE FAMILY DWELLING   \n",
       "5               W                        SINGLE FAMILY DWELLING   \n",
       "9               O                                OTHER BUSINESS   \n",
       "12              H                                   PARKING LOT   \n",
       "\n",
       "   Status Description  Crime Code 1                                  Address  \\\n",
       "0         Adult Other         626.0  6300    BRYNHURST                    AV   \n",
       "4         Invest Cont         745.0  7200    CIRRUS                       WY   \n",
       "5        Adult Arrest         110.0   600 N  HILL                         ST   \n",
       "9         Invest Cont         668.0  7200    SEPULVEDA                    BL   \n",
       "12        Invest Cont         440.0                                     82ND   \n",
       "\n",
       "               Location   \n",
       "0   (33.9829, -118.3338)  \n",
       "4   (34.2009, -118.6369)  \n",
       "5   (34.0591, -118.2412)  \n",
       "9   (34.2012, -118.4662)  \n",
       "12  (33.9651, -118.2783)  "
      ]
     },
     "execution_count": 15,
     "metadata": {},
     "output_type": "execute_result"
    }
   ],
   "source": [
    "df_victims_only.head()"
   ]
  },
  {
   "cell_type": "code",
   "execution_count": 16,
   "metadata": {},
   "outputs": [
    {
     "data": {
      "text/plain": [
       "<matplotlib.text.Text at 0x1962557a8d0>"
      ]
     },
     "execution_count": 16,
     "metadata": {},
     "output_type": "execute_result"
    },
    {
     "data": {
      "image/png": "[encoded data removed]",
      "text/plain": [
       "<matplotlib.figure.Figure at 0x1967022d940>"
      ]
     },
     "metadata": {},
     "output_type": "display_data"
    }
   ],
   "source": [
    "sns.countplot('Victim Descent', data=data).set_title('Obete podla povodu')"
   ]
  },
  {
   "cell_type": "code",
   "execution_count": null,
   "metadata": {},
   "outputs": [],
   "source": []
  },
  {
   "cell_type": "code",
   "execution_count": 17,
   "metadata": {},
   "outputs": [],
   "source": [
    "descent_without_whb = list(df_victims_only['Victim Descent'].unique())\n",
    "descent_without_whb = filter(lambda x: x != 'W', descent_without_whb)\n",
    "descent_without_whb = filter(lambda x: x != 'H', descent_without_whb)\n",
    "descent_without_whb = filter(lambda x: x != 'B', descent_without_whb)\n",
    "descent_without_whb = {x[0]:'O' for x in descent_without_whb }"
   ]
  },
  {
   "cell_type": "code",
   "execution_count": 18,
   "metadata": {},
   "outputs": [
    {
     "data": {
      "text/plain": [
       "<matplotlib.text.Text at 0x1962528e710>"
      ]
     },
     "execution_count": 18,
     "metadata": {},
     "output_type": "execute_result"
    },
    {
     "data": {
      "image/png": "[encoded data removed]",
      "text/plain": [
       "<matplotlib.figure.Figure at 0x196255fa0f0>"
      ]
     },
     "metadata": {},
     "output_type": "display_data"
    }
   ],
   "source": [
    "# Spojime O povod s ostatnymi\n",
    "df_descent_merge = df_victims_only.copy()\n",
    "df_descent_merge['Victim Descent'] = df_victims_only['Victim Descent'].replace(descent_without_whb)\n",
    "df_descent_merge['Victim Descent'].unique()\n",
    "sns.countplot('Victim Descent', data=df_descent_merge).set_title('Obete podla povodu')\n"
   ]
  },
  {
   "cell_type": "code",
   "execution_count": 19,
   "metadata": {},
   "outputs": [
    {
     "name": "stdout",
     "output_type": "stream",
     "text": [
      "['Area Name', 'Crime Code Description', 'Victim Sex', 'Victim Descent', 'Premise Description']\n"
     ]
    }
   ],
   "source": [
    "features = df_descent_merge[['Area Name', 'Crime Code Description', 'Victim Age', 'Victim Sex', 'Victim Descent', 'Premise Description']].head(10000)\n",
    "\n",
    "label = 'Victim Age'\n",
    "feature_columns = list(features.columns)\n",
    "feature_columns.remove(label)\n",
    "print(feature_columns)\n"
   ]
  },
  {
   "cell_type": "code",
   "execution_count": 20,
   "metadata": {},
   "outputs": [
    {
     "ename": "NameError",
     "evalue": "name 'featurs' is not defined",
     "output_type": "error",
     "traceback": [
      "\u001b[1;31m---------------------------------------------------------------------------\u001b[0m",
      "\u001b[1;31mNameError\u001b[0m                                 Traceback (most recent call last)",
      "\u001b[1;32m<ipython-input-20-eb4a46505b06>\u001b[0m in \u001b[0;36m<module>\u001b[1;34m()\u001b[0m\n\u001b[1;32m----> 1\u001b[1;33m \u001b[0mfeaturs\u001b[0m\u001b[1;33m.\u001b[0m\u001b[0mshape\u001b[0m\u001b[1;33m\u001b[0m\u001b[0m\n\u001b[0m",
      "\u001b[1;31mNameError\u001b[0m: name 'featurs' is not defined"
     ]
    }
   ],
   "source": []
  },
  {
   "cell_type": "code",
   "execution_count": 21,
   "metadata": {},
   "outputs": [],
   "source": [
    "encoded = pd.get_dummies(features, columns=feature_columns)"
   ]
  },
  {
   "cell_type": "code",
   "execution_count": 22,
   "metadata": {},
   "outputs": [],
   "source": [
    "featurs = encoded\n",
    "labels = features[label]"
   ]
  },
  {
   "cell_type": "code",
   "execution_count": null,
   "metadata": {},
   "outputs": [],
   "source": []
  },
  {
   "cell_type": "code",
   "execution_count": 23,
   "metadata": {},
   "outputs": [],
   "source": [
    "# http://scikit-learn.org/stable/modules/cross_validation.html#cross-validation\n",
    "import numpy as np\n",
    "from sklearn.model_selection import train_test_split\n",
    "from sklearn import svm"
   ]
  },
  {
   "cell_type": "code",
   "execution_count": 24,
   "metadata": {},
   "outputs": [],
   "source": [
    "X_train, X_test, y_train, y_test = train_test_split(featurs, labels, test_size=0.4, random_state=0)"
   ]
  },
  {
   "cell_type": "code",
   "execution_count": 25,
   "metadata": {},
   "outputs": [
    {
     "data": {
      "text/plain": [
       "SVC(C=1.0, cache_size=200, class_weight=None, coef0=0.0,\n",
       "  decision_function_shape='ovr', degree=3, gamma='auto', kernel='rbf',\n",
       "  max_iter=-1, probability=False, random_state=None, shrinking=True,\n",
       "  tol=0.001, verbose=False)"
      ]
     },
     "execution_count": 25,
     "metadata": {},
     "output_type": "execute_result"
    }
   ],
   "source": [
    "from sklearn import svm\n",
    "\n",
    "clf = svm.SVC()\n",
    "clf.fit(X_train, y_train) "
   ]
  },
  {
   "cell_type": "code",
   "execution_count": 26,
   "metadata": {},
   "outputs": [
    {
     "data": {
      "text/plain": [
       "0.64349999999999996"
      ]
     },
     "execution_count": 26,
     "metadata": {},
     "output_type": "execute_result"
    }
   ],
   "source": [
    "clf.score(X_test, y_test)"
   ]
  },
  {
   "cell_type": "code",
   "execution_count": 28,
   "metadata": {},
   "outputs": [
    {
     "data": {
      "text/plain": [
       "0        30\n",
       "4        84\n",
       "5        49\n",
       "9        27\n",
       "12       42\n",
       "13       29\n",
       "14       12\n",
       "15       19\n",
       "16       23\n",
       "17       39\n",
       "18       18\n",
       "19       25\n",
       "20       34\n",
       "21       37\n",
       "22       50\n",
       "23       20\n",
       "24       32\n",
       "25       18\n",
       "27       30\n",
       "28       24\n",
       "29       48\n",
       "30       18\n",
       "31       27\n",
       "32       24\n",
       "33       45\n",
       "34       50\n",
       "35       60\n",
       "37       45\n",
       "38       40\n",
       "41       23\n",
       "         ..\n",
       "12053    26\n",
       "12054    20\n",
       "12055    82\n",
       "12056    50\n",
       "12057    12\n",
       "12058    12\n",
       "12059    12\n",
       "12060    20\n",
       "12061    74\n",
       "12062    41\n",
       "12063    20\n",
       "12064    49\n",
       "12065    28\n",
       "12067    21\n",
       "12068    33\n",
       "12069    23\n",
       "12070    48\n",
       "12071    12\n",
       "12072    39\n",
       "12073    44\n",
       "12074    30\n",
       "12075    52\n",
       "12077    19\n",
       "12078    19\n",
       "12079    56\n",
       "12080    53\n",
       "12081    31\n",
       "12082    44\n",
       "12083    54\n",
       "12085    49\n",
       "Name: Victim Age, Length: 10000, dtype: int32"
      ]
     },
     "execution_count": 28,
     "metadata": {},
     "output_type": "execute_result"
    }
   ],
   "source": [
    "labels"
   ]
  },
  {
   "cell_type": "code",
   "execution_count": 27,
   "metadata": {},
   "outputs": [
    {
     "name": "stderr",
     "output_type": "stream",
     "text": [
      "C:\\Users\\enderstorm\\Anaconda3\\lib\\site-packages\\sklearn\\model_selection\\_split.py:597: Warning: The least populated class in y has only 1 members, which is too few. The minimum number of members in any class cannot be less than n_splits=5.\n",
      "  % (min_groups, self.n_splits)), Warning)\n"
     ]
    }
   ],
   "source": [
    "from sklearn.model_selection import cross_val_score\n",
    "scores = cross_val_score(clf, featurs, labels, cv=5)"
   ]
  },
  {
   "cell_type": "code",
   "execution_count": 56,
   "metadata": {},
   "outputs": [
    {
     "name": "stdout",
     "output_type": "stream",
     "text": [
      "Accuracy: 0.85 (+/- 0.02)\n"
     ]
    }
   ],
   "source": [
    "print(\"Accuracy: %0.2f (+/- %0.2f)\" % (scores.mean(), scores.std() * 2))"
   ]
  },
  {
   "cell_type": "code",
   "execution_count": 57,
   "metadata": {},
   "outputs": [
    {
     "name": "stdout",
     "output_type": "stream",
     "text": [
      "original shape:    (10000, 259)\n",
      "transformed shape: (10000, 200)\n"
     ]
    },
    {
     "data": {
      "text/plain": [
       "array([[ -7.49929504e+00,   7.83433011e-01,  -5.76866535e-01, ...,\n",
       "          6.80684881e-04,   2.25986858e-04,   4.51777394e-04],\n",
       "       [  4.65041508e+01,  -2.43054835e-02,   6.11788605e-01, ...,\n",
       "          1.07794874e-03,   1.46177166e-03,   7.57936943e-03],\n",
       "       [  1.15053219e+01,   3.11988672e-01,  -9.41531435e-01, ...,\n",
       "          7.26065441e-04,  -6.96613440e-04,  -4.34575372e-04],\n",
       "       ..., \n",
       "       [  6.48986720e+00,   1.33744034e+00,   3.08740270e-01, ...,\n",
       "          7.36223678e-04,   4.92085380e-04,  -1.16662340e-03],\n",
       "       [  1.64927593e+01,   4.24718933e-01,   1.35561598e+00, ...,\n",
       "         -9.59756638e-05,  -1.83355092e-04,  -1.41451619e-04],\n",
       "       [  1.14966123e+01,   1.26670276e+00,  -1.47314537e-02, ...,\n",
       "          1.49001686e-04,  -5.48413640e-04,  -4.57467044e-04]])"
      ]
     },
     "execution_count": 57,
     "metadata": {},
     "output_type": "execute_result"
    }
   ],
   "source": [
    "from sklearn.decomposition import PCA\n",
    "pca = PCA(n_components=200)\n",
    "pca.fit(featurs)\n",
    "X_pca = pca.transform(featurs)\n",
    "print(\"original shape:   \", featurs.shape)\n",
    "print(\"transformed shape:\", X_pca.shape)\n",
    "X_pca"
   ]
  },
  {
   "cell_type": "code",
   "execution_count": 58,
   "metadata": {},
   "outputs": [
    {
     "data": {
      "image/png": "[encoded data removed]",
      "text/plain": [
       "<matplotlib.figure.Figure at 0x1962a0ad208>"
      ]
     },
     "metadata": {},
     "output_type": "display_data"
    }
   ],
   "source": [
    "# https://jakevdp.github.io/PythonDataScienceHandbook/05.09-principal-component-analysis.html\n",
    "\n",
    "plt.plot(np.cumsum(pca.explained_variance_ratio_))\n",
    "plt.xlabel('Počet komponentov')\n",
    "plt.ylabel('Kumulatívne vysvetlená variancia');\n",
    "\n"
   ]
  },
  {
   "cell_type": "code",
   "execution_count": 48,
   "metadata": {},
   "outputs": [],
   "source": [
    "from sklearn.svm import SVC\n",
    "from sklearn.decomposition import PCA\n",
    "from sklearn.pipeline import make_pipeline\n",
    "\n",
    "pca = PCA(n_components=100, svd_solver='randomized')\n",
    "svc = SVC(class_weight='balanced')\n",
    "model = make_pipeline(pca, svc)"
   ]
  },
  {
   "cell_type": "code",
   "execution_count": 49,
   "metadata": {},
   "outputs": [
    {
     "name": "stderr",
     "output_type": "stream",
     "text": [
      "C:\\Users\\enderstorm\\Anaconda3\\lib\\site-packages\\sklearn\\cross_validation.py:41: DeprecationWarning: This module was deprecated in version 0.18 in favor of the model_selection module into which all the refactored classes and functions are moved. Also note that the interface of the new CV iterators are different from that of this module. This module will be removed in 0.20.\n",
      "  \"This module will be removed in 0.20.\", DeprecationWarning)\n",
      "C:\\Users\\enderstorm\\Anaconda3\\lib\\site-packages\\sklearn\\grid_search.py:42: DeprecationWarning: This module was deprecated in version 0.18 in favor of the model_selection module into which all the refactored classes and functions are moved. This module will be removed in 0.20.\n",
      "  DeprecationWarning)\n",
      "C:\\Users\\enderstorm\\Anaconda3\\lib\\site-packages\\sklearn\\cross_validation.py:553: Warning: The least populated class in y has only 1 members, which is too few. The minimum number of labels for any class cannot be less than n_folds=3.\n",
      "  % (min_labels, self.n_folds)), Warning)\n"
     ]
    },
    {
     "name": "stdout",
     "output_type": "stream",
     "text": [
      "Wall time: 4min 3s\n",
      "{'svc__C': 50, 'svc__gamma': 0.0005}\n"
     ]
    }
   ],
   "source": [
    "from sklearn.grid_search import GridSearchCV\n",
    "param_grid = {'svc__C': [1, 5, 10, 50],\n",
    "              'svc__gamma': [0.0001, 0.0005, 0.001, 0.005]}\n",
    "grid = GridSearchCV(model, param_grid)\n",
    "\n",
    "%time grid.fit(X_train, y_train)\n",
    "print(grid.best_params_)"
   ]
  },
  {
   "cell_type": "code",
   "execution_count": 54,
   "metadata": {},
   "outputs": [
    {
     "name": "stderr",
     "output_type": "stream",
     "text": [
      "C:\\Users\\enderstorm\\Anaconda3\\lib\\site-packages\\sklearn\\model_selection\\_split.py:597: Warning: The least populated class in y has only 1 members, which is too few. The minimum number of members in any class cannot be less than n_splits=2.\n",
      "  % (min_groups, self.n_splits)), Warning)\n"
     ]
    }
   ],
   "source": [
    "scores2 = cross_val_score(model, featurs, labels, cv=2)"
   ]
  },
  {
   "cell_type": "code",
   "execution_count": 51,
   "metadata": {},
   "outputs": [
    {
     "name": "stdout",
     "output_type": "stream",
     "text": [
      "Accuracy: 1.00 (+/- 0.01)\n"
     ]
    }
   ],
   "source": [
    "print(\"Accuracy: %0.2f (+/- %0.2f)\" % (scores2.mean(), scores2.std() * 2))"
   ]
  },
  {
   "cell_type": "code",
   "execution_count": null,
   "metadata": {},
   "outputs": [],
   "source": []
  }
 ],
 "metadata": {
  "kernelspec": {
   "display_name": "Python 3",
   "language": "python",
   "name": "python3"
  },
  "language_info": {
   "codemirror_mode": {
    "name": "ipython",
    "version": 3
   },
   "file_extension": ".py",
   "mimetype": "text/x-python",
   "name": "python",
   "nbconvert_exporter": "python",
   "pygments_lexer": "ipython3",
   "version": "3.6.2"
  }
 },
 "nbformat": 4,
 "nbformat_minor": 2
}
